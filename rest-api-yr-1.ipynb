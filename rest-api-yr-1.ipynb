{
 "cells": [
  {
   "cell_type": "markdown",
   "id": "d4ba5e72",
   "metadata": {},
   "source": [
    "# DEL 2 API fra yr.no"
   ]
  },
  {
   "cell_type": "code",
   "execution_count": 3,
   "id": "b42a40bb",
   "metadata": {},
   "outputs": [],
   "source": [
    "# Importer bibliotekene vi trenger\n",
    "import requests\n",
    "import json\n",
    "import pandas as pd\n",
    "from datetime import datetime\n",
    "\n",
    "# For automatiske tester trenger vi pytest og ipytest\n",
    "import ipytest\n",
    "ipytest.autoconfig()"
   ]
  },
  {
   "cell_type": "markdown",
   "id": "37840953",
   "metadata": {},
   "source": [
    "## Oppgave 3: Introduksjon til Yr.no API\n",
    "\n",
    "Nå skal vi begynne å arbeide med ekte værdata! Yr.no tilbyr gratis værdata gjennom sitt API.\n",
    "\n",
    "**API dokumentasjon:** https://api.met.no/weatherapi/locationforecast/2.0/documentation\n",
    "Gå inn på lenken over og ha denne tilgjengelig mens du jobber videre. Siden inneholder API-spesifiksjonen, og forteller utviklere hvordan de kan bruke yr sin locationforecast api. \n",
    "\n",
    "**Base-adresse:** REST APIer bruker å ha en base-adresse, som kommer først for alle uri-er knyttet til APIet. \n",
    "For locations apiet til yr er baseadressen `https://api.met.no/weatherapi/locationforecast/2.0/`. Ofte, som her,\n",
    "inkluderer base-uri et versjonsnummer. Slik kan APIet oppdateres samtidig som den gamle versjonen er tilgjengelig,\n",
    "slik at utviklere har tid til å oppdatere sine programmer til å støtte spesifikasjon i ny versjon av APIet.\n",
    "\n",
    "> Yr har flere APIer som du kan utforske på https://api.met.no\n",
    "> Vi skal bruke loactionforecast som eksempel her\n",
    "\n",
    "La oss prøve et enkelt kall til APIet, med uri `https://api.met.no/weatherapi/locationforecast/2.0/status`. \n",
    "Dette skal gi oss en status-beskjed, og kan brukes for å sjekke om vi klarer å koble oss opp mot APIet."
   ]
  },
  {
   "cell_type": "code",
   "execution_count": 4,
   "id": "6c2d0609",
   "metadata": {},
   "outputs": [
    {
     "name": "stdout",
     "output_type": "stream",
     "text": [
      "Status kode: 403\n"
     ]
    }
   ],
   "source": [
    "response_3a = requests.get('https://api.met.no/weatherapi/locationforecast/2.0/status')\n",
    "print(\"Status kode:\", response_3a.status_code)"
   ]
  },
  {
   "cell_type": "markdown",
   "id": "6d94dd04",
   "metadata": {},
   "source": [
    "Oops.. Her fikk vi en feil statuskode - 403\n",
    "\n",
    "---\n",
    "\n",
    "### Oppgave 3a\n",
    "Hva betyr denne statuskoden?"
   ]
  },
  {
   "cell_type": "markdown",
   "id": "6af51e12",
   "metadata": {},
   "source": [
    "Status kode 403 beytr at man ikke har tillatelse til å hente ut det man søkte etter."
   ]
  },
  {
   "cell_type": "markdown",
   "id": "71c0f681",
   "metadata": {},
   "source": [
    "---\n",
    "\n",
    "Hvis vi ser i dokumentasjonen, står det i delen \n",
    "[AUTHENTICATION](https://api.met.no/weatherapi/locationforecast/2.0/documentation#AUTHENTICATION) \n",
    "at en er nødt til å bruke en unik identifikator i User-Agent header-verdi for at ikke forespørselen\n",
    "skal avvises.\n",
    "\n",
    "La oss sjekke hvordan våre header-verdier så ut fra requesten vi sendte over\n",
    "\n",
    "> Tips:\n",
    "> Informasjon om sendte forespørsler kan hentes ut fra respons-variabelen\n",
    "> med egenskapen `request` (eks: `respons_variabel.request`)"
   ]
  },
  {
   "cell_type": "code",
   "execution_count": 5,
   "id": "6fe5154d",
   "metadata": {},
   "outputs": [
    {
     "name": "stdout",
     "output_type": "stream",
     "text": [
      "\n",
      "Request headers:\n",
      "User-Agent: python-requests/2.32.5\n",
      "Accept-Encoding: gzip, deflate\n",
      "Accept: */*\n",
      "Connection: keep-alive\n"
     ]
    }
   ],
   "source": [
    "# Her skriver vi ut headere som ble sendt med forespørselen\n",
    "# Kjør cellen og se på output\n",
    "print(\"\\nRequest headers:\")\n",
    "request_headers = response_3a.request.headers\n",
    "for key, value in request_headers.items():\n",
    "    print(f\"{key}: {value}\")"
   ]
  },
  {
   "cell_type": "markdown",
   "id": "006a87e7",
   "metadata": {},
   "source": [
    "---\n",
    "\n",
    "### Oppgave 3b\n",
    "\n",
    "Hva er verdien til headeren _User-Agent_?"
   ]
  },
  {
   "cell_type": "markdown",
   "id": "b9efc146",
   "metadata": {},
   "source": [
    "den betyr hva som sendte requesten?\n",
    "programmversjonen og programmet/biblioteket requesten kom fra."
   ]
  },
  {
   "cell_type": "markdown",
   "id": "fd9ef94a",
   "metadata": {},
   "source": [
    "---\n",
    "\n",
    "Verdien på _User-Agent_ oppfyller ikke vilkårene til i API-spesifikasjonen. La oss prøve igjen der vi setter en unik verdi for User-Agent:"
   ]
  },
  {
   "cell_type": "code",
   "execution_count": 6,
   "id": "1b063f31",
   "metadata": {},
   "outputs": [
    {
     "name": "stdout",
     "output_type": "stream",
     "text": [
      "Status kode: 200\n",
      "\n",
      "Request headers:\n",
      "{\n",
      "  \"User-Agent\": \"TestApp/1.0 (it-test@sanpro.no)\",\n",
      "  \"Accept-Encoding\": \"gzip, deflate\",\n",
      "  \"Accept\": \"*/*\",\n",
      "  \"Connection\": \"keep-alive\"\n",
      "}\n",
      "\n",
      "Respons data:\n",
      "{\n",
      "  \"last_update\": \"2025-10-28T23:29:19Z\"\n",
      "}\n"
     ]
    }
   ],
   "source": [
    "# Kjør cellen under for å gjøre et nytt kall med en gyldig User-Agent header\n",
    "\n",
    "# Sett en unik User-Agent header som beskrevet i dokumentasjonen\n",
    "headers = {\n",
    "    'User-Agent': 'TestApp/1.0 (it-test@sanpro.no)'\n",
    "}\n",
    "\n",
    "# Gjør forespørselen med de nye headerne\n",
    "response = requests.get('https://api.met.no/weatherapi/locationforecast/2.0/status', headers=headers)\n",
    "\n",
    "print(\"Status kode:\", response.status_code)\n",
    "\n",
    "# Skriv ut headere som ble sendt med forespørselen\n",
    "print(\"\\nRequest headers:\")\n",
    "print(json.dumps(dict(response.request.headers), indent=2))\n",
    "\n",
    "# Hvis statuskoden er 200 (ok), skriv ut JSON-responsen\n",
    "if response.status_code == 200:\n",
    "    data = response.json()\n",
    "    print(\"\\nRespons data:\")\n",
    "    print(json.dumps(data, indent=2))\n",
    "else:\n",
    "    print(\"Noe gikk galt med forespørselen.\")"
   ]
  },
  {
   "cell_type": "markdown",
   "id": "ab8dc217",
   "metadata": {},
   "source": [
    "Nå fikk vi et gyldig svar! \n",
    "\n",
    "---\n",
    "\n",
    "### Oppgave 3c\n",
    "\n",
    "Hva inneholdt responsen av data?"
   ]
  },
  {
   "cell_type": "markdown",
   "id": "6052164a",
   "metadata": {},
   "source": [
    "sist oppdatering på tingen vi uthenter?"
   ]
  },
  {
   "cell_type": "markdown",
   "id": "c632c565",
   "metadata": {},
   "source": [
    "---\n",
    "\n",
    "> Tips ISO 8601\n",
    "> Les om standarden ISO 8601 for dato og tid formatert som tekst på [Wikipedia](https://en.wikipedia.org/wiki/ISO_8601)"
   ]
  },
  {
   "cell_type": "markdown",
   "id": "59641a50",
   "metadata": {},
   "source": [
    "Som vi nå har erfart er det lurt å sjekke dokumentasjon på API før bruk, og også vilkår. Les yr sine [Terms of Service her](https://api.met.no/doc/TermsOfService)\n",
    "\n",
    "**Viktige punkter om Yr.no API:**\n",
    "- Du må identifisere applikasjonen din med en \"User-Agent\" header\n",
    "- Du kan ikke sende for mange forespørsler (maks 20 per sekund)\n",
    "- API-et krever geografiske koordinater (bredde- og lengdegrad)"
   ]
  },
  {
   "cell_type": "markdown",
   "id": "78248cf4",
   "metadata": {},
   "source": [
    "## Oppgave 4: Et enkelt kall til locationforecast\n",
    "\n",
    "Siden det er noen verdier vi kommer til å bruke flere ganger videre, kan det være lurt å lagre disse til noen variabler først. \n",
    "\n",
    "Kjør cellen under for at variablene som defineres skal være tilgjengelig senere."
   ]
  },
  {
   "cell_type": "code",
   "execution_count": 7,
   "id": "cd8e54cd",
   "metadata": {},
   "outputs": [
    {
     "name": "stdout",
     "output_type": "stream",
     "text": [
      "API URL: https://api.met.no/weatherapi/locationforecast/2.0/\n",
      "API url for compact metoden: https://api.met.no/weatherapi/locationforecast/2.0/compact\n",
      "API url for complete metoden: https://api.met.no/weatherapi/locationforecast/2.0/complete\n",
      "Headers: {'User-Agent': 'TestApp/1.0 (it-test@sanpro.no)'}\n"
     ]
    }
   ],
   "source": [
    "# Sett opp korrekte headers for Yr.no API\n",
    "headers = {\n",
    "    'User-Agent': 'TestApp/1.0 (it-test@sanpro.no)'  # Bytt gjerne ut med din e-post\n",
    "}\n",
    "\n",
    "# URL for Yr.no API\n",
    "base_url = \"https://api.met.no/weatherapi/locationforecast/2.0/\"\n",
    "base_url_compact = base_url + \"compact\"\n",
    "base_url_complete = base_url + \"complete\"\n",
    "\n",
    "# Utskrift av base-verdiene\n",
    "print(\"API URL:\", base_url)\n",
    "print(\"API url for compact metoden:\", base_url_compact)\n",
    "print(\"API url for complete metoden:\", base_url_complete)\n",
    "print(\"Headers:\", headers)"
   ]
  },
  {
   "cell_type": "markdown",
   "id": "3397e2c8",
   "metadata": {},
   "source": [
    "_Kjør cellen under for å teste om variablene er satt opp riktig_"
   ]
  },
  {
   "cell_type": "code",
   "execution_count": 8,
   "id": "df09fd8b",
   "metadata": {},
   "outputs": [
    {
     "name": "stdout",
     "output_type": "stream",
     "text": [
      "\u001b[32m.\u001b[0m\u001b[32m                                                                                            [100%]\u001b[0m\n",
      "\u001b[32m\u001b[32m\u001b[1m1 passed\u001b[0m\u001b[32m in 0.01s\u001b[0m\u001b[0m\n"
     ]
    }
   ],
   "source": [
    "%%ipytest\n",
    "# Test at variablene er satt opp riktig\n",
    "def test_api_setup():\n",
    "    assert base_url == \"https://api.met.no/weatherapi/locationforecast/2.0/\"\n",
    "    assert base_url_compact == \"https://api.met.no/weatherapi/locationforecast/2.0/compact\"\n",
    "    assert base_url_complete == \"https://api.met.no/weatherapi/locationforecast/2.0/complete\"\n",
    "    assert 'User-Agent' in headers\n",
    "    assert headers['User-Agent'] != 'python-requests/'  # Sjekk at User-Agent er unik"
   ]
  },
  {
   "cell_type": "markdown",
   "id": "c32f5242",
   "metadata": {},
   "source": [
    "Da kan vi gjøre vårt første ordentlige kall til APIet:"
   ]
  },
  {
   "cell_type": "code",
   "execution_count": 9,
   "id": "d2d32ba3",
   "metadata": {},
   "outputs": [
    {
     "name": "stdout",
     "output_type": "stream",
     "text": [
      "Status kode: 200\n",
      "Respons data (formatert):\n",
      "{\n",
      "  \"type\": \"Feature\",\n",
      "  \"geometry\": {\n",
      "    \"type\": \"Point\",\n",
      "    \"coordinates\": [\n",
      "      5.767,\n",
      "      58.854,\n",
      "      44\n",
      "    ]\n",
      "  },\n",
      "  \"properties\": {\n",
      "    \"meta\": {\n",
      "      \"updated_at\": \"2025-10-28T23:30:26Z\",\n",
      "      \"units\": {\n",
      "        \"air_pressure_at_sea_level\": \"hPa\",\n",
      "        \"air_temperature\": \"celsius\",\n",
      "        \"cloud_area_fraction\": \"%\",\n",
      "        \"precipitation_amount\": \"mm\",\n",
      "        \"relative_humidity\": \"%\",\n",
      "        \"wind_from_direction\": \"degrees\",\n",
      "        \"wind_speed\": \"m/s\"\n",
      "      }\n",
      "    },\n",
      "     ...\n"
     ]
    }
   ],
   "source": [
    "\n",
    "# Koordinater for Hana, Sandnes\n",
    "lat = 58.854  # Breddegrad (N-S)\n",
    "long = 5.767  # Lengdegrad (Ø-V)\n",
    "\n",
    "# Bygg URL for API-forespørsel\n",
    "url = f\"{base_url_compact}?lat={lat}&lon={long}\"\n",
    "\n",
    "# Gjennomfør forespørselen\n",
    "response = requests.get(url, headers=headers)\n",
    "print(\"Status kode:\", response.status_code)\n",
    "if response.status_code == 200:\n",
    "    print(\"Respons data (formatert):\")\n",
    "    data = response.json()\n",
    "    print(json.dumps(data, indent=2)[:500], \"...\")  # Print de første 500 tegnene av responsen\n",
    "else:\n",
    "    print(\"Noe gikk galt med forespørselen.\")"
   ]
  },
  {
   "cell_type": "markdown",
   "id": "6028555d",
   "metadata": {},
   "source": [
    "---\n",
    "\n",
    "### Oppgave 4a - Lag din første værdata-forespørsel\n",
    "\n",
    "Velg en lokasjon og hent værdata for denne lokasjonen med et enkelt API-kall. Skriv koden din under. \n",
    "\n",
    "**Lagre responsen i en variabel med navn `response_4a`**\n",
    "\n",
    "_Tips: Bruk google maps til å finne koordinatene_"
   ]
  },
  {
   "cell_type": "code",
   "execution_count": 10,
   "id": "2180ebb3",
   "metadata": {},
   "outputs": [],
   "source": [
    "# Skriv din kode her\n",
    "# OBS! Lagre responsen i en variabel med navn response_4a, slik at vi kan bruke den i neste oppgave.\n",
    "\n",
    "# Koordinater\n",
    "lat = 58.834\n",
    "long = 5.718\n",
    "\n",
    "# Bygg URL for API-forespørsel\n",
    "url = f\"{base_url_compact}?lat={lat}&lon={long}\"\n",
    "\n",
    "# Gjennomfør forespørselen\n",
    "response_4a = requests.get(url, headers=headers)"
   ]
  },
  {
   "cell_type": "markdown",
   "id": "4ccdcc4d",
   "metadata": {},
   "source": [
    "_Kjør cellen under for å sjekke at du gjorde oppgaven over riktig_"
   ]
  },
  {
   "cell_type": "code",
   "execution_count": 11,
   "id": "05fa6c20",
   "metadata": {},
   "outputs": [
    {
     "name": "stdout",
     "output_type": "stream",
     "text": [
      "\u001b[32m.\u001b[0m\u001b[32m                                                                                            [100%]\u001b[0m\n",
      "\u001b[32m\u001b[32m\u001b[1m1 passed\u001b[0m\u001b[32m in 0.01s\u001b[0m\u001b[0m\n"
     ]
    }
   ],
   "source": [
    "%%ipytest\n",
    "\n",
    "def test_response_4a():\n",
    "    assert 'response_4a' in globals(), \"Variabelen response_4a finnes ikke.\"\n",
    "    assert response_4a.status_code == 200, \"Responsen i variabelen response_4a har ikke statuskode 200.\"\n"
   ]
  },
  {
   "cell_type": "markdown",
   "id": "c37e629f",
   "metadata": {},
   "source": [
    "***\n",
    "\n",
    "## Oppgave 5: Utforsk værdata-strukturen\n",
    "\n",
    "Før vi kan bruke dataene, må vi forstå hvordan de er organisert."
   ]
  },
  {
   "cell_type": "code",
   "execution_count": 12,
   "id": "6d3b7024",
   "metadata": {},
   "outputs": [
    {
     "name": "stdout",
     "output_type": "stream",
     "text": [
      "Data lagret til weather_data.json\n"
     ]
    }
   ],
   "source": [
    "# Konverter til JSON og lagre til fil\n",
    "if response_4a.status_code == 200:\n",
    "    data_task4 = response_4a.json()\n",
    "    with open('weather_data.json', 'w') as f:\n",
    "        json.dump(data_task4, f, indent=2)\n",
    "    print(\"Data lagret til weather_data.json\")\n",
    "else:\n",
    "    print(\"Feil! Respons ugyldig.\")\n",
    "    print(\"Sjekk om du har gjennomført forrige oppgave korrekt, og kjørt cellen.\")\n",
    "    print(\"OG at du har lagret responsen i en variabel med navn response_4a.\")"
   ]
  },
  {
   "cell_type": "markdown",
   "id": "1227b9f1",
   "metadata": {},
   "source": [
    "---\n",
    "\n",
    "### Oppgave 5a\n",
    "\n",
    "Åpne filen `weather_data.json` og se gjennom verdiene. Filen er ganske stor, men du vil se at strukturen gjentas etter 50-100 linjer, så du trenger bare å forstå starten for å skjønne hele innholdet. \n",
    "\n",
    "- Hvilke hovedegenskaper (1. nivå) er det i json-filen? (det skal være tre stk, navngi dem)\n",
    "- Hvilke egenskaper finnes under \"properties\" ?\n",
    "- Hvor finner du de faktiske værdataene i filen?"
   ]
  },
  {
   "cell_type": "markdown",
   "id": "d59709de",
   "metadata": {},
   "source": [
    "type, geometry, properties\n",
    "\n",
    "meta og timeseries\n",
    "\n",
    "under timeseries     \n",
    " \"data\": {\n",
    "          \"instant\": {\n",
    "            \"details\": { her"
   ]
  },
  {
   "cell_type": "markdown",
   "id": "ace60252",
   "metadata": {},
   "source": [
    "***\n",
    "\n",
    "### Oppgave 5b - Se nærmere på strukturen til en enkelt prognose\n",
    "\n",
    "Fullfør funksjonene `get_properties` og `get_timeseries` under. Husk å returnere en verdi som siste linje av funksjonen:\n",
    "\n",
    "```python\n",
    "def get_properties(data_locationforecast=data_task4):\n",
    "    # ... din logikk\n",
    "    return variabel_navn # Returner en verdi til slutt\n",
    "```\n"
   ]
  },
  {
   "cell_type": "code",
   "execution_count": null,
   "id": "d8d9b5c0",
   "metadata": {},
   "outputs": [],
   "source": [
    "def get_properties(data_locationforecast=data_task4):\n",
    "    \"\"\"Hent ut properties fra responsen fra locationforecast compact API-et\"\"\"\n",
    "    return data_locationforecast['properties']\n",
    "\n",
    "def get_timeseries(data_locationforecast=data_task4):\n",
    "    \"\"\"Hent ut prognoser fra responsen fra locationforecast compact API-et.\"\"\"\n",
    "    return data_locationforecast['properties']['timeseries']"
   ]
  },
  {
   "cell_type": "markdown",
   "id": "26c3e9f6",
   "metadata": {},
   "source": [
    "Kjør cellen over etter du har fullført funksjonene. Du vil se en grønn hake ✅, men det kommer ingen output. Det er ok, og forventet. \n",
    "\n",
    "Etter du har kjørt cellen over (som laster funksjonsreferansene inn i python-interpreterens minne), kan du bruke testen under for å sjekke om løsningen din er gyldig.\n",
    "\n",
    "_Kjør cellen under for å sjekke løsningen din_"
   ]
  },
  {
   "cell_type": "code",
   "execution_count": null,
   "id": "da9dbdfd",
   "metadata": {},
   "outputs": [
    {
     "name": "stdout",
     "output_type": "stream",
     "text": [
      "\u001b[32m.\u001b[0m\u001b[32m.\u001b[0m\u001b[32m                                                                                           [100%]\u001b[0m\n",
      "\u001b[32m\u001b[32m\u001b[1m2 passed\u001b[0m\u001b[32m in 0.01s\u001b[0m\u001b[0m\n"
     ]
    }
   ],
   "source": [
    "%%ipytest \n",
    "\n",
    "def test_get_properties():\n",
    "    properties = get_properties()\n",
    "    assert isinstance(properties, dict), \"get_properties skal returnere en dictionary.\"\n",
    "    assert 'timeseries' in properties, \"properties skal inneholde nøkkelen 'timeseries'.\"\n",
    "    assert isinstance(properties['timeseries'], list), \"properties['timeseries'] skal være en liste.\"\n",
    "    \n",
    "def test_get_timeseries():\n",
    "    timeseries = get_timeseries()\n",
    "    assert isinstance(timeseries, list), \"get_timeseries skal returnere en liste.\"\n",
    "    assert len(timeseries) > 0, \"get_timeseries skal returnere en ikke-tom liste.\"\n",
    "    first_entry = timeseries[0]\n",
    "    assert 'time' in first_entry, \"Hver entry i timeseries skal inneholde nøkkelen 'time'.\"\n",
    "    assert 'data' in first_entry, \"Hver entry i timeseries skal inneholde nøkkelen 'data'.\"\n"
   ]
  },
  {
   "cell_type": "markdown",
   "id": "d6149d75",
   "metadata": {},
   "source": [
    "***\n",
    "\n",
    "### Oppgave 5c: Utforsk prognosens datastruktur\n",
    "\n",
    "Kjør cellen under og se på utskriften"
   ]
  },
  {
   "cell_type": "code",
   "execution_count": null,
   "id": "8a8557fa",
   "metadata": {},
   "outputs": [
    {
     "name": "stdout",
     "output_type": "stream",
     "text": [
      "time\n",
      "data\n",
      "  instant\n",
      "    details\n",
      "      air_pressure_at_sea_level\n",
      "      air_temperature\n",
      "      cloud_area_fraction\n",
      "      relative_humidity\n",
      "      wind_from_direction\n",
      "      wind_speed\n",
      "  next_12_hours\n",
      "    summary\n",
      "      symbol_code\n",
      "    details\n",
      "  next_1_hours\n",
      "    summary\n",
      "      symbol_code\n",
      "    details\n",
      "      precipitation_amount\n",
      "  next_6_hours\n",
      "    summary\n",
      "      symbol_code\n",
      "    details\n",
      "      precipitation_amount\n"
     ]
    }
   ],
   "source": [
    "# Utforsk en enkelt prognose i detalj\n",
    "def print_timeseries_keys():\n",
    "    \"\"\"Skriv ut alle nøklene i en enkelt prognose i timeseries-listen\"\"\"\n",
    "    prognoser = get_timeseries()\n",
    "    first_item = prognoser[0]\n",
    "    def print_keys(d, prefix=''):\n",
    "        for key, value in d.items():\n",
    "            print(f\"{prefix}{key}\")\n",
    "            if isinstance(value, dict):\n",
    "                print_keys(value, prefix + '  ')\n",
    "    print_keys(first_item)\n",
    "    \n",
    "print_timeseries_keys()"
   ]
  },
  {
   "cell_type": "markdown",
   "id": "0340b317",
   "metadata": {},
   "source": [
    "__Forklar utskriften over__\n",
    "\n",
    "- Hvilken informasjon finnes i et timeseries objekt?"
   ]
  },
  {
   "cell_type": "markdown",
   "id": "c4ce3cf9",
   "metadata": {},
   "source": [
    "oppdateringsperiode, og værdatan jeg er ute etter. \n",
    " \n",
    "air_pressure_at_sea_level\n",
    "air_temperature\n",
    "cloud_area_fraction\n",
    "relative_humidity\n",
    "wind_from_direction\n",
    "wind_speed"
   ]
  },
  {
   "cell_type": "markdown",
   "id": "ae75e21b",
   "metadata": {},
   "source": []
  }
 ],
 "metadata": {
  "kernelspec": {
   "display_name": ".venv (3.13.7)",
   "language": "python",
   "name": "python3"
  },
  "language_info": {
   "codemirror_mode": {
    "name": "ipython",
    "version": 3
   },
   "file_extension": ".py",
   "mimetype": "text/x-python",
   "name": "python",
   "nbconvert_exporter": "python",
   "pygments_lexer": "ipython3",
   "version": "3.13.9"
  }
 },
 "nbformat": 4,
 "nbformat_minor": 5
}
