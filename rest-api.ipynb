{
 "cells": [
  {
   "cell_type": "markdown",
   "metadata": {},
   "source": [
    "# Introduksjon til REST API og requests-biblioteket\n",
    "\n",
    "I denne notebooken skal vi lære hvordan vi kan hente data fra internett ved\n",
    "hjelp av API-er (Application Programming Interface). Vi starter enkelt og bygger\n",
    "opp til å hente værdata fra Yr.no sitt åpne API.\n",
    "\n",
    "## Læringsmål\n",
    "- Forstå hva et REST API er\n",
    "- Lære å bruke requests-biblioteket\n",
    "- Hente og behandle JSON-data\n",
    "- Arbeide med Yr.no sitt vær-API\n",
    "- Bygge enkle funksjoner for værhenting"
   ]
  },
  {
   "cell_type": "markdown",
   "metadata": {},
   "source": [
    "## Del 1: Hva er et API?\n",
    "\n",
    "Du kjenner gjerne til forkortelsen UI, som står for User Interface. Dette er grensesnittet mellom bruker og datamaskin. For et GUI (Graphical User Interface) er dette grensesnittet visuelt, som de fleste grensesnitt vi er vant til å bruke er. Altså er dette alt som vises på skjermen - knapper, tekst, lenker, vindu osv. Du som bruker forteller dataprogrammet hva du ønsker skal skje eller vises på skjermen ved å trykke på knapper eller bruke andre funksjoner i grensesnittet. \n",
    "\n",
    "Et API er et annet type grensesnitt, og står for Application Programming Interface. Som vi kan gjette fra navnet, er ikke dette grensesnittet beregnet for en bruker, men for andre dataprogrammer. Et API er altså et grensesnitt der ulike programmer kan utveksle informasjon, sende kommandoer osv, der ett program får et annet program til å gjøre noe. \n",
    "\n",
    "### REST API\n",
    "\n",
    "REST API er et eksempel på en type API som er velkjent og mye brukt. Også kjent som RESTful API, er dette et API som følger arkiteturen / designprinsippene til Representational State Transfer (REST).\n",
    "\n",
    "> Hva er arkitektur / designprinsipper ?\n",
    ">\n",
    "> I programmering kommer du ofte borti ord som arkitektur (architecture) og design. \n",
    "> Dette refererer til regler og prinsipper som kodere og programmer bør eller skal \n",
    "> følge. Det kan være strenge regler som må oppfylles, eller mer løse retningslinjer,\n",
    "> og gjerne en kombinasjon av disse. En slik arkitektur-spesifikasjon gjør at du som\n",
    "> programmerer vet hva du kan forvente når du leser andres kode, så den blir lettere\n",
    "> å forstå og vedlikeholde, og du vet også hva du kan forvente av et annet program\n",
    "> du skal benytte gjennom et API. Designprinsipper kan også bidra til å ivareta\n",
    "> viktige hensyn som sikkerhet, effektivitet osv.\n",
    "\n",
    "REST API er en arkitektur som er tiltenkt for å designe nettverkstjenester, særlig nettbaserte APIer. Arkitekturen tilbyr en fleksibel plattform for utviklere som også er konsistent og effektiv. Den bruker HTTP protokollen for å utveksle informasjon, og kan implementeres i alle programmeringsspråk. \n",
    "\n",
    "REST bygger på følgende prinsipper:\n",
    "\n",
    "- Uniform Interface (enhetlig grensesnitt)\n",
    "    - Server responderer likt på samme forespørsler, uavhengig av hvilken applikasjon som sender forespørselen.\n",
    "    - Det er faste standardiserte metoder for å hente eller manipulere ressurser fra server.\n",
    "- Client-Server decoupling\n",
    "    - Klient og server kjører helt uavhengig av hverandre\n",
    "    - Klienten kommuniserer bare med server på designerte URI-adresser\n",
    "    - Server kan bare svare klienten på forespørsler, og ellers ikke samhandle med klient på andre måter\n",
    "- Stateless\n",
    "    - Hver forespørsel fra klient må inneholde all nødvendig informasjon for at server skal prosessere forespørselen.\n",
    "    - Server lagrer ikke data om klientens tilstand. Hvis klientens tilstand er relevant for forespørselen må altså klienten selv sende slik informasjon sammen med forespørselen til server.\n",
    "- Cacheable\n",
    "    - Når det er mulig skal ressurser kunne lagres i cache (mellomlagres / bufres) hos klient eller server. Dette for å øke ytelse og unngå unødvendig overføring av samme data flere ganger.\n",
    "    - Responser inneholder informasjon om leverte ressurser kan mellomlagres.\n",
    "- Layered system architecture (lagdelt system)\n",
    "    - Kommunikasjon mellom server og klient kan gå gjennom flere lag av \"mellommenn\", som proxyer, gatewayer eller belastningsfordelere. \n",
    "    - REST er designet slik at hverken server eller klient kan vite om de kommuniserer direkte med hverandre, eller gjennom slike lag.\n",
    "- Code on Demand (valgfritt)\n",
    "    - REST kan levere script og kjørbar kode til klienten, for å utvide funksjonalitet på klientsiden.\n",
    "    - Dette benyttes ofte i sammenheng med nettsider og web-applikasjoner, der klienten henter JavaScript kode fra server og kjører den i nettleseren.\n",
    "\n",
    "\n",
    "## REST API i praksis - HTTP forespørsler\n",
    "\n",
    "Det vi oftest bruker REST API til er å hente eller manipulere data på en server. På serveren er gjerne denne informasjonen lagret i databaser, så det kan være greit å ha databasestrukturer i bakhodet når du tenker på hvordan du skal samhandle med et REST API. Som nevnt brukes HTTP-forespørsler i kommunikasjon med server. Under er en kjapp oversikt over de ulike typene av HTTP-forespørsler: \n",
    "\n",
    "- `GET`: Hent data fra server\n",
    "- `POST`: Send data som server skal gjøre noe med\n",
    "- `PUT`: Send data som skal erstatte eller opprette ny ressurs på server\n",
    "- `PATCH`: Send data som delvis oppdaterer eksisterende ressurs på server\n",
    "- `DELETE`: Slett dataressurs fra server\n",
    "\n",
    "Mest brukt er GET, etterfulgt av POST. PUT, PATCH og DELETE er mer strukturerte forespørsler som ligner på databaseoperasjoner. Det viktigste å huske er at GET brukes for å hente data fra server, og POST brukes for å sende data til server. \n",
    "\n",
    "> Merk: GET requests kan også inneholde data / informasjon\n",
    "> \n",
    "> Ofte trenger vi å sende en god del data sammen med en GET forespørsel, for at server skal kunne vite hvilken informasjon som skal sendes tilbake. Dette kan inkludere en token som autentiserer klienten. Altså er det ikke bare med POST vi kan sende data til server, men når vi sender data vi ønsker server skal behandle, som å legge til en ny kunde i en database, bruker vi POST. For å hente en kunde bruker vi GET.\n"
   ]
  },
  {
   "cell_type": "markdown",
   "metadata": {},
   "source": [
    "## Del 2: Oppgaver\n",
    "\n",
    "### Import av biblioteker\n",
    "\n",
    "Kjør cellen under for å importere nødvendige biblioteker til å kjøre kode i andre celler senere."
   ]
  },
  {
   "cell_type": "code",
   "execution_count": 4,
   "metadata": {},
   "outputs": [],
   "source": [
    "# Importer bibliotekene vi trenger\n",
    "import requests\n",
    "import json\n",
    "from datetime import datetime\n",
    "import pandas as pd\n",
    "\n",
    "# For automatiske tester trenger vi pytest og ipytest\n",
    "import pytest\n",
    "import ipytest\n",
    "ipytest.autoconfig()"
   ]
  },
  {
   "cell_type": "markdown",
   "metadata": {},
   "source": [
    "## Oppgave 1: Din første API-forespørsel\n",
    "\n",
    "La oss starte med å forstå hvordan en enkel API-forespørsel fungerer. Kjør cellen under og se på output."
   ]
  },
  {
   "cell_type": "code",
   "execution_count": null,
   "metadata": {},
   "outputs": [],
   "source": [
    "# Lag din første API-forespørsel\n",
    "response_3a = requests.get('https://httpbin.org/get')\n",
    "\n",
    "print(\"Statuskode:\", response_3a.status_code)\n",
    "print(\"Responstype:\", type(response_3a))\n",
    "print(\"\\nResponsinnhold:\")\n",
    "print(response_3a.text)"
   ]
  },
  {
   "cell_type": "markdown",
   "metadata": {},
   "source": [
    "**Spørsmål til refleksjon:**\n",
    "1. Hva betyr status kode 200?\n",
    "2. Hva tror du skjer hvis vi prøver en URL som ikke eksisterer?\n",
    "\n",
    "**Oppgave 1a:** Prøv å endre URL-en til noe som ikke eksisterer og se hva som skjer:"
   ]
  },
  {
   "cell_type": "code",
   "execution_count": 6,
   "metadata": {},
   "outputs": [],
   "source": [
    "# Din kode her - prøv en ugyldig URL. \n",
    "# Følg kode fra forrige kodecelle, men bruk en ugyldig URL og skriv ut statuskoden.\n"
   ]
  },
  {
   "cell_type": "markdown",
   "id": "2f3eddf4",
   "metadata": {},
   "source": [
    "**Oppgave 1b:** Les om HTTP-statuskoder og skriv kort om de mest vanlige statuskodene."
   ]
  },
  {
   "cell_type": "markdown",
   "id": "9260ae9b",
   "metadata": {},
   "source": [
    "_Skriv inn ditt svar her_"
   ]
  },
  {
   "cell_type": "markdown",
   "metadata": {},
   "source": [
    "## Oppgave 2: Forstå JSON-data\n",
    "\n",
    "De fleste API-er returnerer data i JSON-format (JavaScript Object Notation). JSON er lett å lese både for mennesker og datamaskiner. \n",
    "\n",
    "Kjør cellen under og se på resultatet"
   ]
  },
  {
   "cell_type": "code",
   "execution_count": 27,
   "metadata": {},
   "outputs": [
    {
     "name": "stdout",
     "output_type": "stream",
     "text": [
      "Status kode: 503\n",
      "Feil! Status kode: 503\n"
     ]
    }
   ],
   "source": [
    "# Hent JSON-data fra test-API\n",
    "response_3a = requests.get('https://httpbin.org/json')\n",
    "\n",
    "print(\"Status kode:\", response_3a.status_code)\n",
    "\n",
    "if response_3a.status_code == 200:\n",
    "    # Konverter JSON-tekst til Python dictionary\n",
    "    data = response_3a.json()\n",
    "    \n",
    "    print(\"\\nData type:\", type(data))\n",
    "    print(\"\\nJSON data (formatert):\")\n",
    "    print(json.dumps(data, indent=2)) # json.dumps formaterer utskriften så den blir lettere å lese\n",
    "                                      # Vi kunne skrevet ut data direkte, men da hadde alt kommet på en linje\n",
    "else:\n",
    "    print(f\"Feil! Status kode: {response_3a.status_code}\")"
   ]
  },
  {
   "cell_type": "markdown",
   "metadata": {},
   "source": [
    "**Oppgave 2a:** Noen raske spørsmål om koden over\n",
    "- Hvilken datatype konverteres en json respons til i python?\n",
    "- Hvordan henter du ut json-data fra en get-respons i python?\n",
    "- Hvilken datatype har respons-variabelen over, og hva kan du si om innholdet i variabelen?"
   ]
  },
  {
   "cell_type": "markdown",
   "id": "aae1a89e",
   "metadata": {},
   "source": [
    "_Skriv ditt svar her_"
   ]
  },
  {
   "cell_type": "markdown",
   "id": "0c4c82d1",
   "metadata": {},
   "source": [
    "**Oppgave 2b:** Hent ut spesifikke verdier\n",
    "- Sørg for at kodecellen over kjørte ok før du går videre til å kjøre kode i cellen under.\n",
    "- Bruk variabelen data fra oppgaven over til å hente ut slideshow-tittel og forfatter"
   ]
  },
  {
   "cell_type": "code",
   "execution_count": 8,
   "metadata": {},
   "outputs": [
    {
     "name": "stdout",
     "output_type": "stream",
     "text": [
      "{'slideshow': {'author': 'Yours Truly', 'date': 'date of publication', 'slides': [{'title': 'Wake up to WonderWidgets!', 'type': 'all'}, {'items': ['Why <em>WonderWidgets</em> are great', 'Who <em>buys</em> WonderWidgets'], 'title': 'Overview', 'type': 'all'}], 'title': 'Sample Slide Show'}}\n"
     ]
    }
   ],
   "source": [
    "# Variabelen data skal, dersom cellen over kjørte uten feil, \n",
    "# nå inneholde data fra responsen. Vi printer den her for å\n",
    "# vise at den er tilgjengelig.\n",
    "print(data)\n",
    "\n",
    "# Skriv din kode her for å hente ut slideshow-tittel og forfatter\n",
    "# Print ut verdiene med print()-funksjonen\n",
    "# Du kan også hente ut andre verdier og skrive ut disse\n",
    "\n"
   ]
  },
  {
   "cell_type": "markdown",
   "id": "239c1e46",
   "metadata": {},
   "source": [
    "**Oppgave 2c:** POST-request\n",
    "- Lag noen verdier i dictionary mine_data under, og kjør cellen."
   ]
  },
  {
   "cell_type": "code",
   "execution_count": 9,
   "id": "cacc3d85",
   "metadata": {},
   "outputs": [
    {
     "name": "stdout",
     "output_type": "stream",
     "text": [
      "Status kode: 200\n",
      "\n",
      "POST respons data (formatert):\n",
      "{\n",
      "  \"args\": {},\n",
      "  \"data\": \"{}\",\n",
      "  \"files\": {},\n",
      "  \"form\": {},\n",
      "  \"headers\": {\n",
      "    \"Accept\": \"*/*\",\n",
      "    \"Accept-Encoding\": \"gzip, deflate\",\n",
      "    \"Content-Length\": \"2\",\n",
      "    \"Content-Type\": \"application/json\",\n",
      "    \"Host\": \"httpbin.org\",\n",
      "    \"User-Agent\": \"python-requests/2.32.5\",\n",
      "    \"X-Amzn-Trace-Id\": \"Root=1-68e659b7-12ec62d005d584da0b70ed72\"\n",
      "  },\n",
      "  \"json\": {},\n",
      "  \"origin\": \"185.73.27.4\",\n",
      "  \"url\": \"https://httpbin.org/post\"\n",
      "}\n"
     ]
    }
   ],
   "source": [
    "mine_data = {\n",
    "    # Lag en dictionary med noen nøkkel-verdi par\n",
    "}\n",
    "response_3a = requests.post('https://httpbin.org/post', json=mine_data)\n",
    "print(\"Status kode:\", response_3a.status_code)\n",
    "if response_3a.status_code == 200:\n",
    "    data = response_3a.json()\n",
    "    print(\"\\nPOST respons data (formatert):\")\n",
    "    print(json.dumps(data, indent=2))\n",
    "else:\n",
    "    print(\"Oops, noe gikk galt med POST-forespørselen\")"
   ]
  },
  {
   "cell_type": "markdown",
   "id": "ecb58337",
   "metadata": {},
   "source": [
    "**Oppgave 2c:** Hva skjedde her?\n",
    "- Hvordan sender man en post-request i python?\n",
    "- Hvilket argument i denne funksjonen brukes for å sende data fra en dictionary?\n",
    "Se på data som ble skrevet ut fra responsen\n",
    "- Hva tror du dette er?\n",
    "- Kan du kjenne igjen noen verdier i responsen?"
   ]
  },
  {
   "cell_type": "markdown",
   "id": "fdab5aa9",
   "metadata": {},
   "source": [
    "_Skriv svaret ditt her_"
   ]
  },
  {
   "cell_type": "markdown",
   "metadata": {},
   "source": [
    "## Oppgave 3: Introduksjon til Yr.no API\n",
    "\n",
    "Nå skal vi begynne å arbeide med ekte værdata! Yr.no tilbyr gratis værdata gjennom sitt API.\n",
    "\n",
    "**API dokumentasjon:** https://api.met.no/weatherapi/locationforecast/2.0/documentation\n",
    "Gå inn på lenken over og ha denne tilgjengelig mens du jobber videre. Siden inneholder API-spesifiksjonen, og forteller utviklere hvordan de kan bruke yr sin locationforecast api. \n",
    "\n",
    "**Base-adresse:** REST APIer bruker å ha en base-adresse, som kommer først for alle uri-er knyttet til APIet. \n",
    "For locations apiet til yr er baseadressen `https://api.met.no/weatherapi/locationforecast/2.0/`. Ofte, som her,\n",
    "inkluderer base-uri et versjonsnummer. Slik kan APIet oppdateres samtidig som den gamle versjonen er tilgjengelig,\n",
    "slik at utviklere har tid til å oppdatere sine programmer til å støtte spesifikasjon i ny versjon av APIet.\n",
    "\n",
    "> Yr har flere APIer som du kan utforske på https://api.met.no\n",
    "> Vi skal bruke loactionforecast som eksempel her\n",
    "\n",
    "La oss prøve et enkelt kall til APIet, med uri `https://api.met.no/weatherapi/locationforecast/2.0/status`. \n",
    "Dette skal gi oss en status-beskjed, og kan brukes for å sjekke om vi klarer å koble oss opp mot APIet."
   ]
  },
  {
   "cell_type": "code",
   "execution_count": 10,
   "id": "6c2d0609",
   "metadata": {},
   "outputs": [
    {
     "name": "stdout",
     "output_type": "stream",
     "text": [
      "Status kode: 403\n"
     ]
    }
   ],
   "source": [
    "response_3a = requests.get('https://api.met.no/weatherapi/locationforecast/2.0/status')\n",
    "print(\"Status kode:\", response_3a.status_code)"
   ]
  },
  {
   "cell_type": "markdown",
   "id": "6d94dd04",
   "metadata": {},
   "source": [
    "Oops.. Her fikk vi en feil statuskode - 403\n",
    "\n",
    "Hva betyr denne statuskoden?"
   ]
  },
  {
   "cell_type": "markdown",
   "id": "6af51e12",
   "metadata": {},
   "source": [
    "_Skriv svaret ditt her_"
   ]
  },
  {
   "cell_type": "markdown",
   "id": "71c0f681",
   "metadata": {},
   "source": [
    "Hvis vi ser i dokumentasjonen, står det i delen \n",
    "[AUTHENTICATION](https://api.met.no/weatherapi/locationforecast/2.0/documentation#AUTHENTICATION) \n",
    "at en er nødt til å bruke en unik identifikator i User-Agent header-verdi for at ikke forespørselen\n",
    "skal avvises.\n",
    "\n",
    "La oss sjekke hvordan våre header-verdier så ut fra requesten vi sendte over\n",
    "\n",
    "> Tips:\n",
    "> Informasjon om sendte forespørsler kan hentes ut fra respons-variabelen\n",
    "> med egenskapen `request` (eks: `respons_variabel.request`)"
   ]
  },
  {
   "cell_type": "code",
   "execution_count": 11,
   "id": "6fe5154d",
   "metadata": {},
   "outputs": [
    {
     "name": "stdout",
     "output_type": "stream",
     "text": [
      "\n",
      "Request headers:\n",
      "User-Agent: python-requests/2.32.5\n",
      "Accept-Encoding: gzip, deflate\n",
      "Accept: */*\n",
      "Connection: keep-alive\n"
     ]
    }
   ],
   "source": [
    "# Her skriver vi ut headere som ble sendt med forespørselen\n",
    "# Kjør cellen og se på output\n",
    "print(\"\\nRequest headers:\")\n",
    "request_headers = response_3a.request.headers\n",
    "for key, value in request_headers.items():\n",
    "    print(f\"{key}: {value}\")"
   ]
  },
  {
   "cell_type": "markdown",
   "id": "fd9ef94a",
   "metadata": {},
   "source": [
    "Her ser vi at vår User-Agent er satt til \"python-requests/\" + versjonsnummer. Dette oppfyller ikke vilkårene til i API-spesifikasjonen. La oss prøve igjen der vi setter en unik verdi for User-Agent:"
   ]
  },
  {
   "cell_type": "code",
   "execution_count": 12,
   "id": "1b063f31",
   "metadata": {},
   "outputs": [
    {
     "name": "stdout",
     "output_type": "stream",
     "text": [
      "Status kode: 200\n",
      "\n",
      "Request headers:\n",
      "{\n",
      "  \"User-Agent\": \"TestApp/1.0 (it-test@sanpro.no)\",\n",
      "  \"Accept-Encoding\": \"gzip, deflate\",\n",
      "  \"Accept\": \"*/*\",\n",
      "  \"Connection\": \"keep-alive\"\n",
      "}\n",
      "\n",
      "Respons data:\n",
      "{\n",
      "  \"last_update\": \"2025-10-08T12:27:29Z\"\n",
      "}\n"
     ]
    }
   ],
   "source": [
    "# Kjør cellen under for å gjøre et nytt kall med en gyldig User-Agent header\n",
    "\n",
    "# Sett en unik User-Agent header som beskrevet i dokumentasjonen\n",
    "headers = {\n",
    "    'User-Agent': 'TestApp/1.0 (it-test@sanpro.no)'\n",
    "}\n",
    "\n",
    "# Gjør forespørselen med de nye headerne\n",
    "response_3a = requests.get('https://api.met.no/weatherapi/locationforecast/2.0/status', headers=headers)\n",
    "\n",
    "print(\"Status kode:\", response_3a.status_code)\n",
    "\n",
    "# Skriv ut headere som ble sendt med forespørselen\n",
    "print(\"\\nRequest headers:\")\n",
    "print(json.dumps(dict(response_3a.request.headers), indent=2))\n",
    "\n",
    "# Hvis statuskoden er 200 (ok), skriv ut JSON-responsen\n",
    "if response_3a.status_code == 200:\n",
    "    data = response_3a.json()\n",
    "    print(\"\\nRespons data:\")\n",
    "    print(json.dumps(data, indent=2))"
   ]
  },
  {
   "cell_type": "markdown",
   "id": "ab8dc217",
   "metadata": {},
   "source": [
    "Nå fikk vi et gyldig svar! \n",
    "\n",
    "- Hva inneholdt responsen av data?"
   ]
  },
  {
   "cell_type": "markdown",
   "id": "6052164a",
   "metadata": {},
   "source": [
    "_Skriv svaret ditt her_"
   ]
  },
  {
   "cell_type": "markdown",
   "id": "c632c565",
   "metadata": {},
   "source": [
    "> Tips ISO 8601\n",
    "> Les om standarden ISO 8601 for dato og tid formatert som tekst på [Wikipedia](https://en.wikipedia.org/wiki/ISO_8601)"
   ]
  },
  {
   "cell_type": "markdown",
   "id": "59641a50",
   "metadata": {},
   "source": [
    "Som vi nå har erfart er det lurt å sjekke dokumentasjon på API før bruk, og også vilkår. Les yr sine [Terms of Service her](https://api.met.no/doc/TermsOfService)\n",
    "\n",
    "**Viktige punkter om Yr.no API:**\n",
    "- Du må identifisere applikasjonen din med en \"User-Agent\" header\n",
    "- Du kan ikke sende for mange forespørsler (maks 20 per sekund)\n",
    "- API-et krever geografiske koordinater (bredde- og lengdegrad)"
   ]
  },
  {
   "cell_type": "markdown",
   "id": "78248cf4",
   "metadata": {},
   "source": [
    "## Et enkelt kall til locationforecast\n",
    "\n",
    "Siden det er noen verdier vi kommer til å bruke flere ganger videre, kan det være lurt å lagre disse til noen variabler først. \n",
    "\n",
    "Kjør cellen under for at variablene som defineres skal være tilgjengelig senere."
   ]
  },
  {
   "cell_type": "code",
   "execution_count": 13,
   "metadata": {},
   "outputs": [
    {
     "name": "stdout",
     "output_type": "stream",
     "text": [
      "API URL: https://api.met.no/weatherapi/locationforecast/2.0/\n",
      "API url for compact metoden: https://api.met.no/weatherapi/locationforecast/2.0/compact\n",
      "API url for complete metoden: https://api.met.no/weatherapi/locationforecast/2.0/complete\n",
      "Headers: {'User-Agent': 'TestApp/1.0 (it-test@sanpro.no)'}\n"
     ]
    }
   ],
   "source": [
    "# Sett opp korrekte headers for Yr.no API\n",
    "headers = {\n",
    "    'User-Agent': 'TestApp/1.0 (it-test@sanpro.no)'  # Bytt gjerne ut med din e-post\n",
    "}\n",
    "\n",
    "# URL for Yr.no API\n",
    "base_url = \"https://api.met.no/weatherapi/locationforecast/2.0/\"\n",
    "base_url_compact = base_url + \"compact\"\n",
    "base_url_complete = base_url + \"complete\"\n",
    "\n",
    "# Utskrift av base-verdiene\n",
    "print(\"API URL:\", base_url)\n",
    "print(\"API url for compact metoden:\", base_url_compact)\n",
    "print(\"API url for complete metoden:\", base_url_complete)\n",
    "print(\"Headers:\", headers)"
   ]
  },
  {
   "cell_type": "markdown",
   "id": "c32f5242",
   "metadata": {},
   "source": [
    "Da kan vi gjøre vårt første ordentlige kall til APIet:"
   ]
  },
  {
   "cell_type": "code",
   "execution_count": 14,
   "id": "d2d32ba3",
   "metadata": {},
   "outputs": [
    {
     "name": "stdout",
     "output_type": "stream",
     "text": [
      "Status kode: 200\n",
      "Respons data (formatert):\n",
      "{\n",
      "  \"type\": \"Feature\",\n",
      "  \"geometry\": {\n",
      "    \"type\": \"Point\",\n",
      "    \"coordinates\": [\n",
      "      5.767,\n",
      "      58.854,\n",
      "      44\n",
      "    ]\n",
      "  },\n",
      "  \"properties\": {\n",
      "    \"meta\": {\n",
      "      \"updated_at\": \"2025-10-08T12:27:12Z\",\n",
      "      \"units\": {\n",
      "        \"air_pressure_at_sea_level\": \"hPa\",\n",
      "        \"air_temperature\": \"celsius\",\n",
      "        \"cloud_area_fraction\": \"%\",\n",
      "        \"precipitation_amount\": \"mm\",\n",
      "        \"relative_humidity\": \"%\",\n",
      "        \"wind_from_direction\": \"degrees\",\n",
      "        \"wind_speed\": \"m/s\"\n",
      "      }\n",
      "    },\n",
      "     ...\n"
     ]
    }
   ],
   "source": [
    "\n",
    "# Koordinater for Hana, Sandnes\n",
    "lat = 58.854  # Breddegrad (N-S)\n",
    "long = 5.767  # Lengdegrad (Ø-V)\n",
    "\n",
    "# Bygg URL for API-forespørsel\n",
    "url = f\"{base_url_compact}?lat={lat}&lon={long}\"\n",
    "\n",
    "# Gjennomfør forespørselen\n",
    "response_3a = requests.get(url, headers=headers)\n",
    "print(\"Status kode:\", response_3a.status_code)\n",
    "if response_3a.status_code == 200:\n",
    "    print(\"Respons data (formatert):\")\n",
    "    data = response_3a.json()\n",
    "    print(json.dumps(data, indent=2)[:500], \"...\")  # Print de første 500 tegnene av responsen\n"
   ]
  },
  {
   "cell_type": "markdown",
   "metadata": {},
   "source": [
    "**Oppgave 3a:** Lag din første værdata-forespørsel\n",
    "\n",
    "Velg en lokasjon og hent værdata for denne lokasjonen med et enkelt API-kall. Skriv koden din under. \n",
    "\n",
    "**Lagre responsen i en variabel med navn `response_3a`**\n",
    "\n",
    "_Tips: Bruk google maps til å finne koordinatene_"
   ]
  },
  {
   "cell_type": "code",
   "execution_count": 15,
   "metadata": {},
   "outputs": [],
   "source": [
    "# Skriv din kode her\n",
    "# OBS! Lagre responsen i en variabel med navn response_3a, slik at vi kan bruke den i neste oppgave."
   ]
  },
  {
   "cell_type": "code",
   "execution_count": 16,
   "id": "05fa6c20",
   "metadata": {},
   "outputs": [
    {
     "name": "stdout",
     "output_type": "stream",
     "text": [
      "\u001b[32m.\u001b[0m\u001b[32m                                                                                            [100%]\u001b[0m\n",
      "\u001b[32m\u001b[32m\u001b[1m1 passed\u001b[0m\u001b[32m in 0.04s\u001b[0m\u001b[0m\n",
      "\n",
      " **************************************************\n",
      "Oppgave 3a er gjennomført korrekt!\n"
     ]
    }
   ],
   "source": [
    "# Kjør denne cellen for å sjekke at du gjorde oppgaven over riktig.\n",
    "\n",
    "def test_response_3a():\n",
    "    assert 'response_3a' in globals(), \"Variabelen response_3a finnes ikke.\"\n",
    "    assert response_3a.status_code == 200, \"Responsen i variabelen response_3a har ikke statuskode 200.\"\n",
    "\n",
    "ok = ipytest.run()\n",
    "if ok == 0:\n",
    "    print(\"\\n\", \"*\"*50)\n",
    "    print(\"Oppgave 3a er gjennomført korrekt!\")"
   ]
  },
  {
   "cell_type": "markdown",
   "metadata": {},
   "source": [
    "## Oppgave 4: Utforsk værdata-strukturen\n",
    "\n",
    "Før vi kan bruke dataene, må vi forstå hvordan de er organisert."
   ]
  },
  {
   "cell_type": "code",
   "execution_count": 17,
   "metadata": {},
   "outputs": [
    {
     "name": "stdout",
     "output_type": "stream",
     "text": [
      "Data lagret til weather_data.json\n"
     ]
    }
   ],
   "source": [
    "# Konverter til JSON og lagre til fil\n",
    "if response_3a.status_code == 200:\n",
    "    data_task4 = response_3a.json()\n",
    "    with open('weather_data.json', 'w') as f:\n",
    "        json.dump(data_task4, f, indent=2)\n",
    "    print(\"Data lagret til weather_data.json\")\n",
    "else:\n",
    "    print(\"Feil! Respons ugyldig.\")\n",
    "    print(\"Sjekk om du har gjennomført forrige oppgave korrekt, og kjørt cellen.\")\n",
    "    print(\"OG at du har lagret responsen i en variabel med navn response_3a.\")"
   ]
  },
  {
   "cell_type": "markdown",
   "id": "1227b9f1",
   "metadata": {},
   "source": [
    "Åpne filen `weather_data.json` og se gjennom verdiene. Filen er ganske stor, men du vil se at strukturen gjentas etter 50-100 linjer, så du trenger bare å forstå starten for å skjønne hele innholdet. \n",
    "\n",
    "- Hvilke hovedegenskaper (1. nivå) er det i json-filen? (det skal være tre stk, navngi dem)\n",
    "- Hvilke egenskaper finnes under \"properties\" ?\n",
    "- Hvor finner du de faktiske værdataene i filen?"
   ]
  },
  {
   "cell_type": "markdown",
   "metadata": {},
   "source": [
    "**Oppgave 4a:** Se nærmere på strukturen til en enkelt prognose\n",
    "\n"
   ]
  },
  {
   "cell_type": "code",
   "execution_count": 18,
   "id": "d8d9b5c0",
   "metadata": {},
   "outputs": [],
   "source": [
    "def get_properties(locationforecast_compact_response=data_task4):\n",
    "    \"\"\"Hent ut properties fra responsen fra locationforecast compact API-et\"\"\"\n",
    "    return locationforecast_compact_response['properties']\n",
    "\n",
    "def get_timeseries(locationforecast_compact_response=data_task4):\n",
    "    \"\"\"Hent ut prognoser fra responsen fra locationforecast compact API-et.\"\"\"\n",
    "    return locationforecast_compact_response['properties']['timeseries']\n"
   ]
  },
  {
   "cell_type": "code",
   "execution_count": 19,
   "id": "da9dbdfd",
   "metadata": {},
   "outputs": [
    {
     "name": "stdout",
     "output_type": "stream",
     "text": [
      "\u001b[32m.\u001b[0m\u001b[32m.\u001b[0m\u001b[32m.\u001b[0m\u001b[32m                                                                                          [100%]\u001b[0m\n",
      "\u001b[32m\u001b[32m\u001b[1m3 passed\u001b[0m\u001b[32m in 0.03s\u001b[0m\u001b[0m\n",
      "\n",
      " **************************************************\n",
      "Oppgave 4a er gjennomført korrekt!\n"
     ]
    }
   ],
   "source": [
    "def test_get_properties():\n",
    "    properties = get_properties()\n",
    "    assert isinstance(properties, dict), \"get_properties skal returnere en dictionary.\"\n",
    "    assert 'timeseries' in properties, \"properties skal inneholde nøkkelen 'timeseries'.\"\n",
    "    assert isinstance(properties['timeseries'], list), \"properties['timeseries'] skal være en liste.\"\n",
    "    \n",
    "def test_get_timeseries():\n",
    "    timeseries = get_timeseries()\n",
    "    assert isinstance(timeseries, list), \"get_timeseries skal returnere en liste.\"\n",
    "    assert len(timeseries) > 0, \"get_timeseries skal returnere en ikke-tom liste.\"\n",
    "    first_entry = timeseries[0]\n",
    "    assert 'time' in first_entry, \"Hver entry i timeseries skal inneholde nøkkelen 'time'.\"\n",
    "    assert 'data' in first_entry, \"Hver entry i timeseries skal inneholde nøkkelen 'data'.\"\n",
    "    \n",
    "\n",
    "ok = ipytest.run()\n",
    "if ok == 0:\n",
    "    print(\"\\n\", \"*\"*50)\n",
    "    print(\"Oppgave 4a er gjennomført korrekt!\")"
   ]
  },
  {
   "cell_type": "code",
   "execution_count": 20,
   "metadata": {},
   "outputs": [
    {
     "name": "stdout",
     "output_type": "stream",
     "text": [
      "time\n",
      "data\n",
      "  instant\n",
      "    details\n",
      "      air_pressure_at_sea_level\n",
      "      air_temperature\n",
      "      cloud_area_fraction\n",
      "      relative_humidity\n",
      "      wind_from_direction\n",
      "      wind_speed\n",
      "  next_12_hours\n",
      "    summary\n",
      "      symbol_code\n",
      "    details\n",
      "  next_1_hours\n",
      "    summary\n",
      "      symbol_code\n",
      "    details\n",
      "      precipitation_amount\n",
      "  next_6_hours\n",
      "    summary\n",
      "      symbol_code\n",
      "    details\n",
      "      precipitation_amount\n"
     ]
    }
   ],
   "source": [
    "# Utforsk en enkelt prognose i detalj\n",
    "def print_timeseries_keys():\n",
    "    \"\"\"Skriv ut alle nøklene i en enkelt prognose i timeseries-listen\"\"\"\n",
    "    prognoser = get_timeseries()\n",
    "    first_item = prognoser[0]\n",
    "    def print_keys(d, prefix=''):\n",
    "        for key, value in d.items():\n",
    "            print(f\"{prefix}{key}\")\n",
    "            if isinstance(value, dict):\n",
    "                print_keys(value, prefix + '  ')\n",
    "    print_keys(first_item)\n",
    "    \n",
    "print_timeseries_keys()"
   ]
  },
  {
   "cell_type": "markdown",
   "id": "0340b317",
   "metadata": {},
   "source": [
    "Forklar utskriften over.\n",
    "- Hvilken informasjon finnes i ett timeseries objekt?"
   ]
  },
  {
   "cell_type": "markdown",
   "metadata": {},
   "source": [
    "## Oppgave 5: Lag en klasse for værdata\n",
    "\n",
    "Nå som vi forstår datastrukturen, kan vi enklere hente ut data vi ønsker.\n",
    "\n",
    "**Oppgave 5a:** Lag en klasse, Prognosis, som "
   ]
  },
  {
   "cell_type": "code",
   "execution_count": 21,
   "metadata": {},
   "outputs": [
    {
     "ename": "NameError",
     "evalue": "name 'oslo_weather' is not defined",
     "output_type": "error",
     "traceback": [
      "\u001b[31m---------------------------------------------------------------------------\u001b[39m",
      "\u001b[31mNameError\u001b[39m                                 Traceback (most recent call last)",
      "\u001b[36mCell\u001b[39m\u001b[36m \u001b[39m\u001b[32mIn[21]\u001b[39m\u001b[32m, line 12\u001b[39m\n\u001b[32m      1\u001b[39m \u001b[38;5;28;01mdef\u001b[39;00m\u001b[38;5;250m \u001b[39m\u001b[34mget_weather_now\u001b[39m(lat, lon):\n\u001b[32m      2\u001b[39m \u001b[38;5;250m    \u001b[39m\u001b[33;03m\"\"\"\u001b[39;00m\n\u001b[32m      3\u001b[39m \u001b[33;03m    Henter værprognose for nåværende tidspunkt, på gitte koordinater.\u001b[39;00m\n\u001b[32m      4\u001b[39m \n\u001b[32m   (...)\u001b[39m\u001b[32m     10\u001b[39m \u001b[33;03m        dict: Værdata eller None hvis feil oppstod\u001b[39;00m\n\u001b[32m     11\u001b[39m \u001b[33;03m    \"\"\"\u001b[39;00m\n\u001b[32m---> \u001b[39m\u001b[32m12\u001b[39m \u001b[38;5;28;01mif\u001b[39;00m \u001b[43moslo_weather\u001b[49m:\n\u001b[32m     13\u001b[39m     \u001b[38;5;28mprint\u001b[39m(\u001b[33m\"\u001b[39m\u001b[33m🌤️ Nåværende vær i Oslo:\u001b[39m\u001b[33m\"\u001b[39m)\n\u001b[32m     14\u001b[39m     \u001b[38;5;28mprint\u001b[39m(\u001b[33mf\u001b[39m\u001b[33m\"\u001b[39m\u001b[33mTidspunkt: \u001b[39m\u001b[38;5;132;01m{\u001b[39;00moslo_weather[\u001b[33m'\u001b[39m\u001b[33mtidspunkt\u001b[39m\u001b[33m'\u001b[39m]\u001b[38;5;132;01m}\u001b[39;00m\u001b[33m\"\u001b[39m)\n",
      "\u001b[31mNameError\u001b[39m: name 'oslo_weather' is not defined"
     ]
    }
   ],
   "source": [
    "def get_weather_now(lat, lon):\n",
    "    \"\"\"\n",
    "    Henter værprognose for nåværende tidspunkt, på gitte koordinater.\n",
    "    \n",
    "    Args:\n",
    "        lat (float): Breddegrad\n",
    "        lon (float): Lengdegrad\n",
    "    \n",
    "    Returns:\n",
    "        dict: Værdata eller None hvis feil oppstod\n",
    "    \"\"\"\n",
    "if oslo_weather:\n",
    "    print(\"🌤️ Nåværende vær i Oslo:\")\n",
    "    print(f\"Tidspunkt: {oslo_weather['tidspunkt']}\")\n",
    "    print(f\"Temperatur: {oslo_weather['temperatur_celsius']}°C\")\n",
    "    print(f\"Luftfuktighet: {oslo_weather['luftfuktighet_prosent']}%\")\n",
    "    print(f\"Vindhastighet: {oslo_weather['vindhastighet_ms']} m/s\")\n",
    "else:\n",
    "    print(\"❌ Kunne ikke hente værdata\")"
   ]
  },
  {
   "cell_type": "markdown",
   "metadata": {},
   "source": [
    "**Oppgave 5a:** Test funksjonen med koordinater for din hjemby"
   ]
  },
  {
   "cell_type": "code",
   "execution_count": null,
   "metadata": {},
   "outputs": [],
   "source": [
    "# Test med andre koordinater\n",
    "# Bergen: 60.3913, 5.3221\n",
    "# Trondheim: 63.4305, 10.3951\n",
    "# Tromsø: 69.6492, 18.9553\n",
    "\n",
    "# Din kode her:\n",
    "# my_weather = get_current_weather(LAT, LON)\n",
    "# print(my_weather)"
   ]
  },
  {
   "cell_type": "markdown",
   "metadata": {},
   "source": [
    "## Oppgave 6: Hent værprognose for flere timer\n",
    "\n",
    "API-et gir oss prognoser for mange timer fremover. La oss lage en funksjon som henter prognoser for de neste timene."
   ]
  },
  {
   "cell_type": "code",
   "execution_count": null,
   "metadata": {},
   "outputs": [
    {
     "name": "stdout",
     "output_type": "stream",
     "text": [
      "📊 8-timers prognose for Oslo:\n",
      "  tid  temperatur  luftfuktighet  vindhastighet\n",
      "09:00         9.3           58.8            1.4\n",
      "10:00        10.7           55.0            1.2\n",
      "11:00        12.0           49.8            1.3\n",
      "12:00        12.8           48.7            1.3\n",
      "13:00        13.3           48.4            2.1\n",
      "14:00        13.9           45.3            2.7\n",
      "15:00        14.5           43.3            2.3\n",
      "16:00        14.3           45.4            1.9\n"
     ]
    }
   ],
   "source": [
    "def get_hourly_forecast(lat, lon, hours=12):\n",
    "    \"\"\"\n",
    "    Henter timesprognose for de neste X timene.\n",
    "    \n",
    "    Args:\n",
    "        lat (float): Breddegrad\n",
    "        lon (float): Lengdegrad\n",
    "        hours (int): Antall timer å hente prognose for\n",
    "    \n",
    "    Returns:\n",
    "        list: Liste med værprognoser\n",
    "    \"\"\"\n",
    "    \n",
    "    headers = {'User-Agent': 'VærApp-Student/1.0 (student@skole.no)'}\n",
    "    url = f\"https://api.met.no/weatherapi/locationforecast/2.0/compact?lat={lat}&lon={lon}\"\n",
    "    \n",
    "    try:\n",
    "        response = requests.get(url, headers=headers, timeout=10)\n",
    "        \n",
    "        if response.status_code != 200:\n",
    "            print(f\"API-feil: Status {response.status_code}\")\n",
    "            return []\n",
    "        \n",
    "        data = response.json()\n",
    "        timeseries = data['properties']['timeseries']\n",
    "        \n",
    "        forecast = []\n",
    "        \n",
    "        # Gå gjennom de første 'hours' prognosene\n",
    "        for i, entry in enumerate(timeseries[:hours]):\n",
    "            try:\n",
    "                instant_data = entry['data']['instant']['details']\n",
    "                \n",
    "                forecast_entry = {\n",
    "                    'tidspunkt': entry['time'],\n",
    "                    'temperatur': instant_data['air_temperature'],\n",
    "                    'luftfuktighet': instant_data['relative_humidity'],\n",
    "                    'vindhastighet': instant_data['wind_speed']\n",
    "                }\n",
    "                \n",
    "                forecast.append(forecast_entry)\n",
    "                \n",
    "            except KeyError:\n",
    "                # Noen tidspunkter kan mangle data\n",
    "                continue\n",
    "        \n",
    "        return forecast\n",
    "        \n",
    "    except Exception as e:\n",
    "        print(f\"Feil ved henting av prognose: {e}\")\n",
    "        return []\n",
    "\n",
    "# Test funksjonen\n",
    "oslo_forecast = get_hourly_forecast(59.9139, 10.7522, 8)\n",
    "\n",
    "if oslo_forecast:\n",
    "    print(\"📊 8-timers prognose for Oslo:\")\n",
    "    \n",
    "    # Konverter til DataFrame for pen visning\n",
    "    df = pd.DataFrame(oslo_forecast)\n",
    "    \n",
    "    # Forenkle tidspunkt-visning\n",
    "    df['tid'] = pd.to_datetime(df['tidspunkt']).dt.strftime('%H:%M')\n",
    "    \n",
    "    # Vis de første prognosene\n",
    "    print(df[['tid', 'temperatur', 'luftfuktighet', 'vindhastighet']].head(8).to_string(index=False))\n",
    "else:\n",
    "    print(\"❌ Kunne ikke hente værprognose\")"
   ]
  },
  {
   "cell_type": "markdown",
   "metadata": {},
   "source": [
    "**Oppgave 6a:** Finn temperatur-ekstremene i prognosen"
   ]
  },
  {
   "cell_type": "code",
   "execution_count": null,
   "metadata": {},
   "outputs": [
    {
     "name": "stdout",
     "output_type": "stream",
     "text": [
      "🌡️ Temperaturanalyse for de neste 8 timene:\n",
      "Laveste: 9.3°C\n",
      "Høyeste: 14.5°C\n",
      "Gjennomsnitt: 12.6°C\n",
      "Temperaturspenn: 5.199999999999999°C\n"
     ]
    }
   ],
   "source": [
    "# Analyser temperaturen i prognosen\n",
    "if oslo_forecast:\n",
    "    temperatures = [entry['temperatur'] for entry in oslo_forecast]\n",
    "    \n",
    "    min_temp = min(temperatures)\n",
    "    max_temp = max(temperatures)\n",
    "    avg_temp = sum(temperatures) / len(temperatures)\n",
    "    \n",
    "    print(f\"🌡️ Temperaturanalyse for de neste {len(oslo_forecast)} timene:\")\n",
    "    print(f\"Laveste: {min_temp}°C\")\n",
    "    print(f\"Høyeste: {max_temp}°C\")\n",
    "    print(f\"Gjennomsnitt: {avg_temp:.1f}°C\")\n",
    "    print(f\"Temperaturspenn: {max_temp - min_temp}°C\")"
   ]
  },
  {
   "cell_type": "markdown",
   "metadata": {},
   "source": [
    "## Oppgave 7: Sammenlign været i flere byer\n",
    "\n",
    "La oss bruke funksjonene våre til å sammenligne været i flere norske byer."
   ]
  },
  {
   "cell_type": "code",
   "execution_count": null,
   "metadata": {},
   "outputs": [
    {
     "name": "stdout",
     "output_type": "stream",
     "text": [
      "🌍 Henter værdata for norske byer...\n",
      "  Henter data for Oslo...\n",
      "  Henter data for Bergen...\n",
      "  Henter data for Trondheim...\n",
      "  Henter data for Stavanger...\n",
      "  Henter data for Tromsø...\n",
      "\n",
      "🌤️ Værsammenligning:\n",
      "       By  Temperatur (°C)  Luftfuktighet (%)  Vind (m/s)\n",
      "     Oslo              9.3               58.8         1.4\n",
      "   Bergen              6.9               82.0         0.8\n",
      "Trondheim              6.2               88.7         2.2\n",
      "Stavanger              8.2               76.1         2.8\n",
      "   Tromsø              4.4               88.7         5.1\n",
      "\n",
      "🔥 Varmeste by: Oslo (9.3°C)\n",
      "🧊 Kaldeste by: Tromsø (4.4°C)\n"
     ]
    }
   ],
   "source": [
    "# Definer koordinater for norske byer\n",
    "norske_byer = {\n",
    "    'Oslo': (59.9139, 10.7522),\n",
    "    'Bergen': (60.3913, 5.3221),\n",
    "    'Trondheim': (63.4305, 10.3951),\n",
    "    'Stavanger': (58.9700, 5.7331),\n",
    "    'Tromsø': (69.6492, 18.9553)\n",
    "}\n",
    "\n",
    "# Hent værdata for alle byene\n",
    "by_weather = []\n",
    "\n",
    "print(\"🌍 Henter værdata for norske byer...\")\n",
    "\n",
    "for by_navn, (lat, lon) in norske_byer.items():\n",
    "    print(f\"  Henter data for {by_navn}...\")\n",
    "    \n",
    "    weather = get_current_weather(lat, lon)\n",
    "    \n",
    "    if weather:\n",
    "        weather['by'] = by_navn\n",
    "        by_weather.append(weather)\n",
    "    else:\n",
    "        print(f\"    ⚠️ Kunne ikke hente data for {by_navn}\")\n",
    "\n",
    "# Vis resultatene\n",
    "if by_weather:\n",
    "    print(\"\\n🌤️ Værsammenligning:\")\n",
    "    \n",
    "    # Konverter til DataFrame\n",
    "    df = pd.DataFrame(by_weather)\n",
    "    \n",
    "    # Vis relevante kolonner\n",
    "    weather_table = df[['by', 'temperatur_celsius', 'luftfuktighet_prosent', 'vindhastighet_ms']].round(1)\n",
    "    weather_table.columns = ['By', 'Temperatur (°C)', 'Luftfuktighet (%)', 'Vind (m/s)']\n",
    "    \n",
    "    print(weather_table.to_string(index=False))\n",
    "    \n",
    "    # Finn ekstremene\n",
    "    varmeste_idx = df['temperatur_celsius'].idxmax()\n",
    "    kaldeste_idx = df['temperatur_celsius'].idxmin()\n",
    "    \n",
    "    print(f\"\\n🔥 Varmeste by: {df.loc[varmeste_idx, 'by']} ({df.loc[varmeste_idx, 'temperatur_celsius']}°C)\")\n",
    "    print(f\"🧊 Kaldeste by: {df.loc[kaldeste_idx, 'by']} ({df.loc[kaldeste_idx, 'temperatur_celsius']}°C)\")\n",
    "else:\n",
    "    print(\"❌ Kunne ikke hente værdata for noen byer\")"
   ]
  },
  {
   "cell_type": "markdown",
   "metadata": {},
   "source": [
    "**Oppgave 7a:** Finn byen med høyest vindhastighet"
   ]
  },
  {
   "cell_type": "code",
   "execution_count": null,
   "metadata": {},
   "outputs": [],
   "source": [
    "# Din kode her:\n",
    "# Finn byen med høyest vindhastighet\n",
    "if by_weather:\n",
    "    # vindigste_idx = df['vindhastighet_ms'].idxmax()\n",
    "    # print(f\"💨 Vindigste by: {df.loc[vindigste_idx, 'by']} ({df.loc[vindigste_idx, 'vindhastighet_ms']} m/s)\")\n",
    "    pass"
   ]
  },
  {
   "cell_type": "markdown",
   "metadata": {},
   "source": [
    "## Oppgave 8: Avansert - Daglig værsammendrag\n",
    "\n",
    "La oss lage en funksjon som gir oss et sammendrag av været for de neste dagene."
   ]
  },
  {
   "cell_type": "code",
   "execution_count": null,
   "metadata": {},
   "outputs": [
    {
     "name": "stdout",
     "output_type": "stream",
     "text": [
      "📅 3-dagers værsammendrag for Oslo:\n",
      "            Min_temp  Max_temp  Snitt_temp  Snitt_luftfuktighet  Snitt_vind  \\\n",
      "dato                                                                          \n",
      "2025-09-23       8.3      14.5        11.3                 59.1         1.8   \n",
      "2025-09-24       6.3      15.9        10.6                 62.9         1.6   \n",
      "2025-09-25       6.5      14.8         9.4                 75.2         1.3   \n",
      "2025-09-26       7.6      15.3        11.0                 85.1         1.2   \n",
      "2025-09-27       7.3      15.3        10.9                 84.3         1.4   \n",
      "2025-09-28       7.8      14.9        10.9                 86.6         1.6   \n",
      "2025-09-29       8.7      14.7        11.6                 89.0         1.6   \n",
      "2025-09-30      10.0      14.5        11.5                 89.5         1.5   \n",
      "\n",
      "            Max_vind  \n",
      "dato                  \n",
      "2025-09-23       2.7  \n",
      "2025-09-24       2.1  \n",
      "2025-09-25       2.4  \n",
      "2025-09-26       1.4  \n",
      "2025-09-27       1.8  \n",
      "2025-09-28       2.0  \n",
      "2025-09-29       1.8  \n",
      "2025-09-30       1.6  \n",
      "📊 Analyse:\n",
      "Varmeste dag: 15.9°C\n",
      "Kaldeste dag: 6.3°C\n",
      "Største temperaturspenn på en dag: 9.600000000000001°C\n"
     ]
    }
   ],
   "source": [
    "def get_daily_summary(lat, lon, days=3):\n",
    "    \"\"\"\n",
    "    Henter daglig værsammendrag for de neste dagene.\n",
    "    \n",
    "    Args:\n",
    "        lat (float): Breddegrad\n",
    "        lon (float): Lengdegrad\n",
    "        days (int): Antall dager\n",
    "    \n",
    "    Returns:\n",
    "        DataFrame: Daglig værsammendrag\n",
    "    \"\"\"\n",
    "    \n",
    "    # Hent prognose for mange timer (24 timer * antall dager)\n",
    "    forecast = get_hourly_forecast(lat, lon, hours=days * 24)\n",
    "    \n",
    "    if not forecast:\n",
    "        return None\n",
    "    \n",
    "    # Konverter til DataFrame\n",
    "    df = pd.DataFrame(forecast)\n",
    "    \n",
    "    # Legg til dato-kolonne\n",
    "    df['datetime'] = pd.to_datetime(df['tidspunkt'])\n",
    "    df['dato'] = df['datetime'].dt.date\n",
    "    \n",
    "    # Gruppér etter dag og beregn statistikk\n",
    "    daily_summary = df.groupby('dato').agg({\n",
    "        'temperatur': ['min', 'max', 'mean'],\n",
    "        'luftfuktighet': 'mean',\n",
    "        'vindhastighet': ['mean', 'max']\n",
    "    }).round(1)\n",
    "\n",
    "    # Forenkle kolonnenavn\n",
    "    daily_summary.columns = [\n",
    "        'Min_temp', 'Max_temp', 'Snitt_temp',\n",
    "        'Snitt_luftfuktighet', 'Snitt_vind', 'Max_vind'\n",
    "    ]\n",
    "\n",
    "    return daily_summary\n",
    "\n",
    "# Test funksjonen for Oslo\n",
    "print(\"📅 3-dagers værsammendrag for Oslo:\")\n",
    "oslo_summary = get_daily_summary(59.9139, 10.7522, 3)\n",
    "\n",
    "if oslo_summary is not None:\n",
    "    print(oslo_summary)\n",
    "\n",
    "    print(f\"📊 Analyse:\")\n",
    "    print(f\"Varmeste dag: {oslo_summary['Max_temp'].max()}°C\")\n",
    "    print(f\"Kaldeste dag: {oslo_summary['Min_temp'].min()}°C\")\n",
    "    print(f\"Største temperaturspenn på en dag: {(oslo_summary['Max_temp'] - oslo_summary['Min_temp']).max()}°C\")\n",
    "else:\n",
    "    print(\"❌ Kunne ikke hente daglig sammendrag\")\n"
   ]
  },
  {
   "cell_type": "markdown",
   "metadata": {},
   "source": [
    "## Bonusoppgaver\n",
    "\n",
    "Hvis du har kommet så langt, kan du prøve disse utfordringsoppgavene!"
   ]
  },
  {
   "cell_type": "markdown",
   "metadata": {},
   "source": [
    "### Bonusoppgave 1: Lag en værvarsel-klasse\n",
    "\n",
    "Organiser funksjonaliteten i en Python-klasse for bedre struktur."
   ]
  },
  {
   "cell_type": "code",
   "execution_count": null,
   "metadata": {},
   "outputs": [],
   "source": [
    "class WeatherAPI:\n",
    "    \"\"\"Klasse for å hente værdata fra Yr.no API\"\"\"\n",
    "    \n",
    "    def __init__(self, user_agent=\"VærApp-Student/1.0 (student@skole.no)\"):\n",
    "        self.base_url = \"https://api.met.no/weatherapi/locationforecast/2.0/compact\"\n",
    "        self.headers = {'User-Agent': user_agent}\n",
    "    \n",
    "    def _make_request(self, lat, lon):\n",
    "        \"\"\"Hjelpemetode for å gjøre API-forespørsel\"\"\"\n",
    "        url = f\"{self.base_url}?lat={lat}&lon={lon}\"\n",
    "        \n",
    "        try:\n",
    "            response = requests.get(url, headers=self.headers, timeout=10)\n",
    "            response.raise_for_status()  # Kaster exception ved HTTP-feil\n",
    "            return response.json()\n",
    "        except requests.exceptions.RequestException as e:\n",
    "            print(f\"API-feil: {e}\")\n",
    "            return None\n",
    "    \n",
    "    def get_current_weather(self, lat, lon):\n",
    "        \"\"\"Hent nåværende vær\"\"\"\n",
    "        # Implementer denne metoden\n",
    "        # Din kode her:\n",
    "        pass\n",
    "    \n",
    "    def get_forecast(self, lat, lon, hours=12):\n",
    "        \"\"\"Hent timesprognose\"\"\"\n",
    "        # Implementer denne metoden\n",
    "        # Din kode her:\n",
    "        pass\n",
    "\n",
    "# Test klassen din\n",
    "# weather_api = WeatherAPI()\n",
    "# weather = weather_api.get_current_weather(59.9139, 10.7522)\n",
    "# print(weather)"
   ]
  },
  {
   "cell_type": "markdown",
   "metadata": {},
   "source": [
    "### Bonusoppgave 2: Robust feilhåndtering\n",
    "\n",
    "Implementer en funksjon som prøver på nytt hvis API-et ikke svarer."
   ]
  },
  {
   "cell_type": "code",
   "execution_count": null,
   "metadata": {},
   "outputs": [],
   "source": [
    "import time\n",
    "\n",
    "def robust_weather_request(lat, lon, max_retries=3, delay=1):\n",
    "    \"\"\"\n",
    "    Robust API-forespørsel med retry-logikk.\n",
    "    \n",
    "    Args:\n",
    "        lat, lon: Koordinater\n",
    "        max_retries: Maksimalt antall forsøk\n",
    "        delay: Sekunder å vente mellom forsøk\n",
    "    \"\"\"\n",
    "    \n",
    "    for attempt in range(max_retries):\n",
    "        try:\n",
    "            print(f\"Forsøk {attempt + 1}/{max_retries}...\")\n",
    "            \n",
    "            # Din kode her:\n",
    "            # Implementer logikk som:\n",
    "            # 1. Prøver å hente data\n",
    "            # 2. Returnerer data hvis vellykket\n",
    "            # 3. Venter 'delay' sekunder og prøver igjen ved feil\n",
    "            # 4. Gir opp etter max_retries forsøk\n",
    "            \n",
    "            pass\n",
    "            \n",
    "        except Exception as e:\n",
    "            print(f\"Forsøk {attempt + 1} feilet: {e}\")\n",
    "            \n",
    "            if attempt < max_retries - 1:\n",
    "                print(f\"Venter {delay} sekunder før nytt forsøk...\")\n",
    "                time.sleep(delay)\n",
    "            else:\n",
    "                print(\"Alle forsøk feilet!\")\n",
    "                return None\n",
    "\n",
    "# Test funksjonen\n",
    "# robust_data = robust_weather_request(59.9139, 10.7522)\n",
    "# print(robust_data)"
   ]
  },
  {
   "cell_type": "markdown",
   "metadata": {},
   "source": [
    "### Bonusoppgave 3: Værvarsel med nedbør\n",
    "\n",
    "Yr.no API-et inneholder også informasjon om nedbør. Utforsk datastrukturen og hent ut nedbørsprognoser."
   ]
  },
  {
   "cell_type": "code",
   "execution_count": null,
   "metadata": {},
   "outputs": [],
   "source": [
    "# Utforsk 'next_1_hours' og 'next_6_hours' data\n",
    "# Disse inneholder nedbørsprognoser\n",
    "\n",
    "def get_precipitation_forecast(lat, lon):\n",
    "    \"\"\"Hent nedbørsprognose for de neste timene\"\"\"\n",
    "    \n",
    "    # Din kode her:\n",
    "    # Tips: Se på 'next_1_hours' og 'next_6_hours' i datastrukturen\n",
    "    # Disse inneholder 'precipitation_amount' og 'precipitation_amount_max'\n",
    "    \n",
    "    pass\n",
    "\n",
    "# Test funksjonen\n",
    "# precipitation = get_precipitation_forecast(59.9139, 10.7522)\n",
    "# print(precipitation)"
   ]
  },
  {
   "cell_type": "markdown",
   "metadata": {},
   "source": [
    "## Refleksjonsspørsmål\n",
    "\n",
    "Ta deg tid til å tenke over det du har lært:\n",
    "\n",
    "1. **API-forståelse**: Hva er forskjellen mellom et API og en vanlig nettside?\n",
    "\n",
    "2. **Feilhåndtering**: Hvorfor er det viktig å håndtere feil når man arbeider med API-er?\n",
    "\n",
    "3. **Datastruktur**: Yr.no returnerer mye data. Hvordan bestemte du hvilke verdier som var viktigst å hente ut?\n",
    "\n",
    "4. **Etikk**: Hvilke etiske hensyn bør man ta når man bruker andres API-er?\n",
    "\n",
    "5. **Utvidelser**: Hvilke andre funksjoner kunne du tenke deg å legge til i en værapp?\n",
    "\n",
    "Skriv ned tankene dine i cellen under:"
   ]
  },
  {
   "cell_type": "markdown",
   "metadata": {},
   "source": [
    "**Mine refleksjoner:**\n",
    "\n",
    "<!-- Skriv dine tanker her -->\n",
    "\n"
   ]
  },
  {
   "cell_type": "markdown",
   "metadata": {},
   "source": [
    "## Oppsummering\n",
    "\n",
    "🎉 **Gratulerer! Du har nå lært:**\n",
    "\n",
    "✅ **REST API-konsepter**\n",
    "- Hva et API er og hvordan det fungerer\n",
    "- HTTP-metoder (GET, POST, etc.)\n",
    "- Status koder (200, 404, etc.)\n",
    "\n",
    "✅ **requests-biblioteket**\n",
    "- Gjøre HTTP-forespørsler\n",
    "- Håndtere JSON-data\n",
    "- Sette headers og parametere\n",
    "\n",
    "✅ **Yr.no API**\n",
    "- Hente værdata for spesifikke koordinater\n",
    "- Forstå komplekse datastrukturer\n",
    "- Hente både nåværende vær og prognoser\n",
    "\n",
    "✅ **Databehandling**\n",
    "- Pakke ut relevant informasjon fra API-svar\n",
    "- Sammenligne data fra flere kilder\n",
    "- Lage sammendrag og statistikk\n",
    "\n",
    "✅ **Feilhåndtering**\n",
    "- Try/except blokker\n",
    "- Håndtere nettverksfeil\n",
    "- Validere data\n",
    "\n",
    "### Neste steg i læringen:\n",
    "\n",
    "🔗 **Utforsk andre API-er:**\n",
    "- [JSONPlaceholder](https://jsonplaceholder.typicode.com/) - Test-API\n",
    "- [OpenWeatherMap](https://openweathermap.org/api) - Alternativt vær-API\n",
    "- [REST Countries](https://restcountries.com/) - Landeinformasjon\n",
    "\n",
    "📚 **Lær mer om:**\n",
    "- API-autentisering (API-nøkler, OAuth)\n",
    "- GraphQL (alternativ til REST)\n",
    "- Rate limiting og caching\n",
    "- Asynkron programmering med `asyncio`\n",
    "\n",
    "🛠️ **Prosjektideer:**\n",
    "- Bygg en værapp med grafisk brukergrensesnitt\n",
    "- Lag en bot som sender daglige værmeldinger\n",
    "- Kombiner flere API-er (vær + kart + nyheter)\n",
    "- Lag en værlogger som lagrer data i en database\n",
    "\n",
    "### Viktige ressurser:\n",
    "\n",
    "- 📖 [Requests dokumentasjon](https://docs.python-requests.org/)\n",
    "- 🌤️ [Yr.no API dokumentasjon](https://api.met.no/weatherapi/)\n",
    "- 🔧 [HTTP statuskoder](https://httpstatuses.com/)\n",
    "- 📊 [Pandas dokumentasjon](https://pandas.pydata.org/docs/)\n",
    "\n",
    "**Lykke til med videre utforskning av API-verdenen! 🚀**"
   ]
  }
 ],
 "metadata": {
  "kernelspec": {
   "display_name": ".venv",
   "language": "python",
   "name": "python3"
  },
  "language_info": {
   "codemirror_mode": {
    "name": "ipython",
    "version": 3
   },
   "file_extension": ".py",
   "mimetype": "text/x-python",
   "name": "python",
   "nbconvert_exporter": "python",
   "pygments_lexer": "ipython3",
   "version": "3.12.8"
  }
 },
 "nbformat": 4,
 "nbformat_minor": 5
}
