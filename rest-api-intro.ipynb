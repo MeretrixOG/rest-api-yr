{
 "cells": [
  {
   "cell_type": "markdown",
   "metadata": {},
   "source": [
    "# Introduksjon til REST API og requests-biblioteket\n",
    "\n",
    "I denne notebooken skal vi lære hvordan vi kan hente data fra internett ved\n",
    "hjelp av API-er (Application Programming Interface). Vi starter enkelt og bygger\n",
    "opp til å hente værdata fra Yr.no sitt åpne API.\n",
    "\n",
    "## Læringsmål\n",
    "- Forstå hva et REST API er\n",
    "- Lære å bruke requests-biblioteket\n",
    "- Hente og behandle JSON-data\n",
    "- Arbeide med Yr.no sitt vær-API\n",
    "- Bygge enkle funksjoner for værhenting"
   ]
  },
  {
   "cell_type": "markdown",
   "metadata": {},
   "source": [
    "## Del 1: Hva er et API?\n",
    "\n",
    "Du kjenner gjerne til forkortelsen UI, som står for User Interface. Dette er grensesnittet mellom bruker og datamaskin. For et GUI (Graphical User Interface) er dette grensesnittet visuelt, som de fleste grensesnitt vi er vant til å bruke er. Altså er dette alt som vises på skjermen - knapper, tekst, lenker, vindu osv. Du som bruker forteller dataprogrammet hva du ønsker skal skje eller vises på skjermen ved å trykke på knapper eller bruke andre funksjoner i grensesnittet. \n",
    "\n",
    "Et API er et annet type grensesnitt, og står for Application Programming Interface. Som vi kan gjette fra navnet, er ikke dette grensesnittet beregnet for en bruker, men for andre dataprogrammer. Et API er altså et grensesnitt der ulike programmer kan utveksle informasjon, sende kommandoer osv, der ett program får et annet program til å gjøre noe. \n",
    "\n",
    "### REST API\n",
    "\n",
    "REST API er et eksempel på en type API som er velkjent og mye brukt. Også kjent som RESTful API, er dette et API som følger arkiteturen / designprinsippene til Representational State Transfer (REST).\n",
    "\n",
    "> Hva er arkitektur / designprinsipper ?\n",
    ">\n",
    "> I programmering kommer du ofte borti ord som arkitektur (architecture) og design. \n",
    "> Dette refererer til regler og prinsipper som kodere og programmer bør eller skal \n",
    "> følge. Det kan være strenge regler som må oppfylles, eller mer løse retningslinjer,\n",
    "> og gjerne en kombinasjon av disse. En slik arkitektur-spesifikasjon gjør at du som\n",
    "> programmerer vet hva du kan forvente når du leser andres kode, så den blir lettere\n",
    "> å forstå og vedlikeholde, og du vet også hva du kan forvente av et annet program\n",
    "> du skal benytte gjennom et API. Designprinsipper kan også bidra til å ivareta\n",
    "> viktige hensyn som sikkerhet, effektivitet osv.\n",
    "\n",
    "REST API er en arkitektur som er tiltenkt for å designe nettverkstjenester, særlig nettbaserte APIer. Arkitekturen tilbyr en fleksibel plattform for utviklere som også er konsistent og effektiv. Den bruker HTTP protokollen for å utveksle informasjon, og kan implementeres i alle programmeringsspråk. \n",
    "\n",
    "REST bygger på følgende prinsipper:\n",
    "\n",
    "- Uniform Interface (enhetlig grensesnitt)\n",
    "    - Server responderer likt på samme forespørsler, uavhengig av hvilken applikasjon som sender forespørselen.\n",
    "    - Det er faste standardiserte metoder for å hente eller manipulere ressurser fra server.\n",
    "- Client-Server decoupling\n",
    "    - Klient og server kjører helt uavhengig av hverandre\n",
    "    - Klienten kommuniserer bare med server på designerte URI-adresser\n",
    "    - Server kan bare svare klienten på forespørsler, og ellers ikke samhandle med klient på andre måter\n",
    "- Stateless\n",
    "    - Hver forespørsel fra klient må inneholde all nødvendig informasjon for at server skal prosessere forespørselen.\n",
    "    - Server lagrer ikke data om klientens tilstand. Hvis klientens tilstand er relevant for forespørselen må altså klienten selv sende slik informasjon sammen med forespørselen til server.\n",
    "- Cacheable\n",
    "    - Når det er mulig skal ressurser kunne lagres i cache (mellomlagres / bufres) hos klient eller server. Dette for å øke ytelse og unngå unødvendig overføring av samme data flere ganger.\n",
    "    - Responser inneholder informasjon om leverte ressurser kan mellomlagres.\n",
    "- Layered system architecture (lagdelt system)\n",
    "    - Kommunikasjon mellom server og klient kan gå gjennom flere lag av \"mellommenn\", som proxyer, gatewayer eller belastningsfordelere. \n",
    "    - REST er designet slik at hverken server eller klient kan vite om de kommuniserer direkte med hverandre, eller gjennom slike lag.\n",
    "- Code on Demand (valgfritt)\n",
    "    - REST kan levere script og kjørbar kode til klienten, for å utvide funksjonalitet på klientsiden.\n",
    "    - Dette benyttes ofte i sammenheng med nettsider og web-applikasjoner, der klienten henter JavaScript kode fra server og kjører den i nettleseren.\n",
    "\n",
    "\n",
    "## REST API i praksis - HTTP forespørsler\n",
    "\n",
    "Det vi oftest bruker REST API til er å hente eller manipulere data på en server. På serveren er gjerne denne informasjonen lagret i databaser, så det kan være greit å ha databasestrukturer i bakhodet når du tenker på hvordan du skal samhandle med et REST API. Som nevnt brukes HTTP-forespørsler i kommunikasjon med server. Under er en kjapp oversikt over de ulike typene av HTTP-forespørsler: \n",
    "\n",
    "- `GET`: Hent data fra server\n",
    "- `POST`: Send data som server skal gjøre noe med\n",
    "- `PUT`: Send data som skal erstatte eller opprette ny ressurs på server\n",
    "- `PATCH`: Send data som delvis oppdaterer eksisterende ressurs på server\n",
    "- `DELETE`: Slett dataressurs fra server\n",
    "\n",
    "Mest brukt er GET, etterfulgt av POST. PUT, PATCH og DELETE er mer strukturerte forespørsler som ligner på databaseoperasjoner. Det viktigste å huske er at GET brukes for å hente data fra server, og POST brukes for å sende data til server. \n",
    "\n",
    "> Merk: GET requests kan også inneholde data / informasjon\n",
    "> \n",
    "> Ofte trenger vi å sende en god del data sammen med en GET forespørsel, for at server skal kunne vite hvilken informasjon som skal sendes tilbake. Dette kan inkludere en token som autentiserer klienten. Altså er det ikke bare med POST vi kan sende data til server, men når vi sender data vi ønsker server skal behandle, som å legge til en ny kunde i en database, bruker vi POST. For å hente en kunde bruker vi GET.\n"
   ]
  },
  {
   "cell_type": "markdown",
   "metadata": {},
   "source": [
    "## Del 2: Oppgaver\n",
    "\n",
    "### Import av biblioteker\n",
    "\n",
    "Kjør cellen under for å importere nødvendige biblioteker til å kjøre kode i andre celler senere."
   ]
  },
  {
   "cell_type": "code",
   "execution_count": null,
   "id": "24cc2131",
   "metadata": {},
   "outputs": [],
   "source": [
    "# Importer bibliotekene vi trenger\n",
    "import requests\n",
    "import json\n",
    "\n",
    "# For automatiske tester trenger vi pytest og ipytest\n",
    "import ipytest\n",
    "ipytest.autoconfig()"
   ]
  },
  {
   "cell_type": "markdown",
   "id": "66ca1c35",
   "metadata": {},
   "source": [
    "## Oppgave 1: Din første API-forespørsel\n",
    "\n",
    "La oss starte med å forstå hvordan en enkel API-forespørsel fungerer. Kjør cellen under og se på output."
   ]
  },
  {
   "cell_type": "code",
   "execution_count": null,
   "id": "c54db06e",
   "metadata": {},
   "outputs": [],
   "source": [
    "# Lag din første API-forespørsel\n",
    "response_3a = requests.get('https://httpbin.org/get')\n",
    "\n",
    "print(\"Statuskode:\", response_3a.status_code)\n",
    "print(\"Responstype:\", type(response_3a))\n",
    "print(\"\\nResponsinnhold:\")\n",
    "print(response_3a.text)"
   ]
  },
  {
   "cell_type": "markdown",
   "id": "c8fe7175",
   "metadata": {},
   "source": [
    "**Spørsmål til refleksjon:**\n",
    "1. Hva betyr status kode 200?\n",
    "2. Hva tror du skjer hvis vi prøver en URL som ikke eksisterer?\n",
    "\n",
    "**Oppgave 1a:** Prøv å endre URL-en til noe som ikke eksisterer og se hva som skjer:"
   ]
  },
  {
   "cell_type": "code",
   "execution_count": null,
   "id": "7fa38201",
   "metadata": {},
   "outputs": [],
   "source": [
    "# Din kode her - prøv en ugyldig URL. \n",
    "# Følg kode fra forrige kodecelle, men bruk en ugyldig URL og skriv ut statuskoden.\n"
   ]
  },
  {
   "cell_type": "markdown",
   "id": "2f3eddf4",
   "metadata": {},
   "source": [
    "**Oppgave 1b:** Les om HTTP-statuskoder og skriv kort om de mest vanlige statuskodene."
   ]
  },
  {
   "cell_type": "markdown",
   "id": "9260ae9b",
   "metadata": {},
   "source": [
    "_Skriv inn ditt svar her_"
   ]
  },
  {
   "cell_type": "markdown",
   "id": "f2619d75",
   "metadata": {},
   "source": [
    "## Oppgave 2: Forstå JSON-data\n",
    "\n",
    "De fleste API-er returnerer data i JSON-format (JavaScript Object Notation). JSON er lett å lese både for mennesker og datamaskiner. \n",
    "\n",
    "Kjør cellen under og se på resultatet"
   ]
  },
  {
   "cell_type": "code",
   "execution_count": null,
   "id": "96e74d62",
   "metadata": {},
   "outputs": [],
   "source": [
    "# Hent JSON-data fra test-API\n",
    "response_3a = requests.get('https://httpbin.org/json')\n",
    "\n",
    "print(\"Status kode:\", response_3a.status_code)\n",
    "\n",
    "if response_3a.status_code == 200:\n",
    "    # Konverter JSON-tekst til Python dictionary\n",
    "    data = response_3a.json()\n",
    "    \n",
    "    print(\"\\nData type:\", type(data))\n",
    "    print(\"\\nJSON data (formatert):\")\n",
    "    print(json.dumps(data, indent=2)) # json.dumps formaterer utskriften så den blir lettere å lese\n",
    "                                      # Vi kunne skrevet ut data direkte, men da hadde alt kommet på en linje\n",
    "else:\n",
    "    print(f\"Feil! Status kode: {response_3a.status_code}\")"
   ]
  },
  {
   "cell_type": "markdown",
   "id": "f9b424f2",
   "metadata": {},
   "source": [
    "**Oppgave 2a:** Noen raske spørsmål om koden over\n",
    "- Hvilken datatype konverteres en json respons til i python?\n",
    "- Hvordan henter du ut json-data fra en get-respons i python?\n",
    "- Hvilken datatype har respons-variabelen over, og hva kan du si om innholdet i variabelen?"
   ]
  },
  {
   "cell_type": "markdown",
   "id": "aae1a89e",
   "metadata": {},
   "source": [
    "_Skriv ditt svar her_"
   ]
  },
  {
   "cell_type": "markdown",
   "id": "0c4c82d1",
   "metadata": {},
   "source": [
    "**Oppgave 2b:** Hent ut spesifikke verdier\n",
    "- Sørg for at kodecellen over kjørte ok før du går videre til å kjøre kode i cellen under.\n",
    "- Bruk variabelen data fra oppgaven over til å hente ut slideshow-tittel og forfatter"
   ]
  },
  {
   "cell_type": "code",
   "execution_count": null,
   "id": "308d752b",
   "metadata": {},
   "outputs": [],
   "source": [
    "# Variabelen data skal, dersom cellen over kjørte uten feil, \n",
    "# nå inneholde data fra responsen. Vi printer den her for å\n",
    "# vise at den er tilgjengelig.\n",
    "print(data)\n",
    "\n",
    "# Skriv din kode her for å hente ut slideshow-tittel og forfatter\n",
    "# Print ut verdiene med print()-funksjonen\n",
    "# Du kan også hente ut andre verdier og skrive ut disse\n",
    "\n"
   ]
  },
  {
   "cell_type": "markdown",
   "id": "239c1e46",
   "metadata": {},
   "source": [
    "**Oppgave 2c:** POST-request\n",
    "- Lag noen verdier i dictionary mine_data under, og kjør cellen."
   ]
  },
  {
   "cell_type": "code",
   "execution_count": null,
   "id": "cacc3d85",
   "metadata": {},
   "outputs": [],
   "source": [
    "mine_data = {\n",
    "    # Lag en dictionary med noen nøkkel-verdi par\n",
    "}\n",
    "response_3a = requests.post('https://httpbin.org/post', json=mine_data)\n",
    "print(\"Status kode:\", response_3a.status_code)\n",
    "if response_3a.status_code == 200:\n",
    "    data = response_3a.json()\n",
    "    print(\"\\nPOST respons data (formatert):\")\n",
    "    print(json.dumps(data, indent=2))\n",
    "else:\n",
    "    print(\"Oops, noe gikk galt med POST-forespørselen\")"
   ]
  },
  {
   "cell_type": "markdown",
   "id": "ecb58337",
   "metadata": {},
   "source": [
    "**Oppgave 2c:** Hva skjedde her?\n",
    "- Hvordan sender man en post-request i python?\n",
    "- Hvilket argument i denne funksjonen brukes for å sende data fra en dictionary?\n",
    "Se på data som ble skrevet ut fra responsen\n",
    "- Hva tror du dette er?\n",
    "- Kan du kjenne igjen noen verdier i responsen?"
   ]
  },
  {
   "cell_type": "markdown",
   "id": "fdab5aa9",
   "metadata": {},
   "source": [
    "_Skriv svaret ditt her_"
   ]
  }
 ],
 "metadata": {
  "kernelspec": {
   "display_name": ".venv",
   "language": "python",
   "name": "python3"
  },
  "language_info": {
   "codemirror_mode": {
    "name": "ipython",
    "version": 3
   },
   "file_extension": ".py",
   "mimetype": "text/x-python",
   "name": "python",
   "nbconvert_exporter": "python",
   "pygments_lexer": "ipython3",
   "version": "3.12.8"
  }
 },
 "nbformat": 4,
 "nbformat_minor": 5
}
